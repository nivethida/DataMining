{
 "cells": [
  {
   "cell_type": "code",
   "execution_count": 1,
   "metadata": {},
   "outputs": [],
   "source": [
    "%matplotlib inline\n",
    "\n",
    "from pathlib import Path\n",
    "\n",
    "import pandas as pd\n",
    "import numpy as np\n",
    "import matplotlib.pyplot as plt\n",
    "\n",
    "from sklearn.model_selection import train_test_split\n",
    "from sklearn.neural_network import MLPClassifier\n",
    "from sklearn.model_selection import GridSearchCV\n",
    "\n",
    "from sklearn.metrics import confusion_matrix\n",
    "from sklearn.metrics import accuracy_score\n",
    "from sklearn.metrics import precision_recall_curve\n",
    "from sklearn.metrics import roc_curve\n",
    "from sklearn.metrics import average_precision_score\n",
    "from sklearn.metrics import auc\n",
    "from sklearn.metrics import classification_report\n",
    "from sklearn.metrics import f1_score\n",
    "from sklearn.metrics import log_loss\n",
    "from sklearn.metrics import roc_auc_score\n",
    "\n",
    "from sklearn.tree import DecisionTreeClassifier\n",
    "from sklearn.ensemble import RandomForestClassifier\n",
    "from sklearn.ensemble import BaggingClassifier\n",
    "from sklearn.ensemble import AdaBoostClassifier\n",
    "from sklearn.ensemble import GradientBoostingClassifier\n",
    "from sklearn.ensemble import VotingClassifier\n",
    "\n",
    "from sklearn.linear_model import LogisticRegression"
   ]
  },
  {
   "cell_type": "code",
   "execution_count": 2,
   "metadata": {},
   "outputs": [
    {
     "name": "stdout",
     "output_type": "stream",
     "text": [
      "<class 'pandas.core.frame.DataFrame'>\n",
      "RangeIndex: 6 entries, 0 to 5\n",
      "Data columns (total 4 columns):\n",
      " #   Column      Non-Null Count  Dtype  \n",
      "---  ------      --------------  -----  \n",
      " 0   Obs.        6 non-null      int64  \n",
      " 1   Fat         6 non-null      float64\n",
      " 2   Salt        6 non-null      float64\n",
      " 3   Acceptance  6 non-null      object \n",
      "dtypes: float64(2), int64(1), object(1)\n",
      "memory usage: 320.0+ bytes\n"
     ]
    }
   ],
   "source": [
    "df = pd.read_csv('TinyData.csv')\n",
    "df.info()"
   ]
  },
  {
   "cell_type": "code",
   "execution_count": 3,
   "metadata": {},
   "outputs": [
    {
     "data": {
      "text/html": [
       "<div>\n",
       "<style scoped>\n",
       "    .dataframe tbody tr th:only-of-type {\n",
       "        vertical-align: middle;\n",
       "    }\n",
       "\n",
       "    .dataframe tbody tr th {\n",
       "        vertical-align: top;\n",
       "    }\n",
       "\n",
       "    .dataframe thead th {\n",
       "        text-align: right;\n",
       "    }\n",
       "</style>\n",
       "<table border=\"1\" class=\"dataframe\">\n",
       "  <thead>\n",
       "    <tr style=\"text-align: right;\">\n",
       "      <th></th>\n",
       "      <th>Obs.</th>\n",
       "      <th>Fat</th>\n",
       "      <th>Salt</th>\n",
       "      <th>Acceptance</th>\n",
       "    </tr>\n",
       "  </thead>\n",
       "  <tbody>\n",
       "    <tr>\n",
       "      <th>0</th>\n",
       "      <td>1</td>\n",
       "      <td>0.2</td>\n",
       "      <td>0.9</td>\n",
       "      <td>like</td>\n",
       "    </tr>\n",
       "    <tr>\n",
       "      <th>1</th>\n",
       "      <td>2</td>\n",
       "      <td>0.1</td>\n",
       "      <td>0.1</td>\n",
       "      <td>dislike</td>\n",
       "    </tr>\n",
       "    <tr>\n",
       "      <th>2</th>\n",
       "      <td>3</td>\n",
       "      <td>0.2</td>\n",
       "      <td>0.4</td>\n",
       "      <td>dislike</td>\n",
       "    </tr>\n",
       "    <tr>\n",
       "      <th>3</th>\n",
       "      <td>4</td>\n",
       "      <td>0.2</td>\n",
       "      <td>0.5</td>\n",
       "      <td>dislike</td>\n",
       "    </tr>\n",
       "    <tr>\n",
       "      <th>4</th>\n",
       "      <td>5</td>\n",
       "      <td>0.4</td>\n",
       "      <td>0.5</td>\n",
       "      <td>like</td>\n",
       "    </tr>\n",
       "  </tbody>\n",
       "</table>\n",
       "</div>"
      ],
      "text/plain": [
       "   Obs.  Fat  Salt Acceptance\n",
       "0     1  0.2   0.9       like\n",
       "1     2  0.1   0.1    dislike\n",
       "2     3  0.2   0.4    dislike\n",
       "3     4  0.2   0.5    dislike\n",
       "4     5  0.4   0.5       like"
      ]
     },
     "execution_count": 3,
     "metadata": {},
     "output_type": "execute_result"
    }
   ],
   "source": [
    "df.head()"
   ]
  },
  {
   "cell_type": "code",
   "execution_count": 4,
   "metadata": {},
   "outputs": [],
   "source": [
    "predictors = ['Fat', 'Salt']\n",
    "outcome = 'Acceptance'\n",
    "\n",
    "X = df[predictors]\n",
    "y = df[outcome]\n",
    "classes = sorted(y.unique())"
   ]
  },
  {
   "cell_type": "code",
   "execution_count": 5,
   "metadata": {},
   "outputs": [
    {
     "name": "stdout",
     "output_type": "stream",
     "text": [
      "Intercepts\n",
      "[array([0.13368045, 4.07247552, 7.00768104]), array([14.30748677])]\n",
      "Weights\n",
      "[array([[ -1.30656481,  -4.20427791, -13.29587332],\n",
      "       [ -0.04399727,  -4.91606924,  -6.03356987]]), array([[ -0.27348313],\n",
      "       [ -9.01211572],\n",
      "       [-17.63504696]])]\n",
      "   Obs.  Fat  Salt Acceptance   dislike      like\n",
      "0     1  0.2   0.9       like  0.000490  0.999510\n",
      "1     2  0.1   0.1    dislike  0.999994  0.000006\n",
      "2     3  0.2   0.4    dislike  0.999741  0.000259\n",
      "3     4  0.2   0.5    dislike  0.997368  0.002632\n",
      "4     5  0.4   0.5       like  0.002133  0.997867\n",
      "5     6  0.3   0.8       like  0.000075  0.999925\n"
     ]
    }
   ],
   "source": [
    "clf = MLPClassifier(hidden_layer_sizes=(3), activation='logistic', solver='lbfgs', random_state=1,max_iter=200)\n",
    "clf.fit(X, y)\n",
    "clf.predict(X)\n",
    "\n",
    "# Network structure\n",
    "print('Intercepts')\n",
    "print(clf.intercepts_)\n",
    "\n",
    "print('Weights')\n",
    "print(clf.coefs_)\n",
    "\n",
    "# Prediction\n",
    "print(pd.concat([df,pd.DataFrame(clf.predict_proba(X), columns=classes)], axis=1))"
   ]
  },
  {
   "cell_type": "code",
   "execution_count": 6,
   "metadata": {},
   "outputs": [],
   "source": [
    "def evaluate_performance(actual,propensity,cutoff):\n",
    "    \n",
    "    cm = confusion_matrix(actual,[1 if p > cutoff else 0 for p in propensity]).ravel()\n",
    "    \n",
    "    tn=cm[0]\n",
    "    fp=cm[1]\n",
    "    fn=cm[2]\n",
    "    tp=cm[3]\n",
    "    n=tn+fp+fn+tp\n",
    "    predictive_accuracy = (tn + tp)/n \n",
    "    \n",
    "    #--------------True positive Rate / Sensitivity / Recall / Hit Rate-----------------\n",
    "    #is the proportion of positive cases that were correctly identified\n",
    "    #  TP / (TP + FN)\n",
    "    true_positive_rate = tp / (tp + fn)\n",
    "    sensitivity = true_positive_rate\n",
    "    recall  = true_positive_rate\n",
    "    hit_rate = true_positive_rate\n",
    "\n",
    "    #-------------True Negative Rate / Specificity -----------------------\n",
    "    # TN / (FP + TN)\n",
    "    true_negative_rate = tn / (fp + tn)\n",
    "    specificity = true_negative_rate\n",
    "    \n",
    "    #----------Precision or Positive Predictive Value---------------------\n",
    "    #is the proportion of the predicted positive cases that were correct \n",
    "    # TP / (TP + FP)\n",
    "    precision= tp / (tp + fp)\n",
    "    positive_predictive_value=precision\n",
    "\n",
    "    #---------------False Positive Rate or Fall Out---------------------------    \n",
    "    #false positive rate (FP) is the proportion of negatives cases that were \n",
    "    #incorrectly classified as positive\n",
    "    # FPR = FP / (FP + TN)\n",
    "    # FPR = 1 - specificity\n",
    "    #FPR = 1 - True Negative Rate\n",
    "    false_positive_rate=fp / (fp+tn)\n",
    "    fall_out=false_positive_rate\n",
    "\n",
    "    #---------------False Negative Rate or Miss Rate --------------------------\n",
    "    #is the proportion of positives cases that were incorrectly classified as negative\n",
    "    # a=TP True Positives\n",
    "    # b=FP False Positive\n",
    "    # c=FN False Negatives\n",
    "    # d=TN True Negative  \n",
    "    #FN / (FN + TP)\n",
    "    false_negative_rate=fn/(fn+tp)\n",
    "    miss_rate=false_negative_rate\n",
    "\n",
    "    #-----------negative Predictive value------------------    \n",
    "    # TN / (TN + FN)\n",
    "    negative_predictive_value=tn/(tn+fn)\n",
    "    \n",
    "    #-----------false discovery rate ---------------------\n",
    "    # FP / (TP + FP)\n",
    "    # 1 - precision\n",
    "    false_discovery_rate=fp/(tp+fp)\n",
    "\n",
    "    #----------------informedness------------------------\n",
    "    #sensitivity + specificity - 1\n",
    "    # true positive rate + true negative rate - 1\n",
    "    informedness=sensitivity + specificity - 1\n",
    "\n",
    "    #------------------markedness----------------------------\n",
    "    #precision + negative predictive value\n",
    "    #positive predictive value + negative predictive value\n",
    "    markedness=precision + negative_predictive_value\n",
    "    \n",
    "    #klearn.metrics.accuracy_score\n",
    "    accuracy_scor=accuracy_score(actual,[1 if p > cutoff else 0 for p in propensity])\n",
    "    \n",
    "    #average_precision_score\n",
    "    average_precision_scor=average_precision_score(actual,[1 if p > cutoff else 0 for p in propensity])\n",
    "        \n",
    "    f1_scor=f1_score(actual,[1 if p > cutoff else 0 for p in propensity])\n",
    "    \n",
    "    log_loss_=log_loss(actual,[1 if p > cutoff else 0 for p in propensity])\n",
    "    \n",
    "    roc_auc_scor=roc_auc_score(actual,[1 if p > cutoff else 0 for p in propensity])\n",
    "    \n",
    "    return \"true negative \"+ str(tn), \\\n",
    "           \"false positive \"+str(fp),\\\n",
    "           \"false negative \"+str(fn),\\\n",
    "           \"true positive \"+str(tp),\\\n",
    "           \"predictive accuracy \"+ str(predictive_accuracy),\\\n",
    "           \"true positive rate \"+str(true_positive_rate),\\\n",
    "           \"sensitivity \"+str(sensitivity),\\\n",
    "           \"recall \"+str(recall),\\\n",
    "           \"hit rate \"+str(hit_rate),\\\n",
    "           \"true negative rate \"+str(true_negative_rate),\\\n",
    "           \"specificity \"+str(specificity),\\\n",
    "           \"precision \"+str(precision),\\\n",
    "           \"positive predictive value \" + str(positive_predictive_value),\\\n",
    "           \"false_positive_rate \"+str(false_positive_rate),\\\n",
    "           \"fall_out \"+str(fall_out),\\\n",
    "           \"false_negative_rate \"+str(false_negative_rate),\\\n",
    "           \"miss_rate \"+str(miss_rate),\\\n",
    "           \"negative_predictive_value \"+str(negative_predictive_value), \\\n",
    "           \"false_discovery_rate \"+str(false_discovery_rate), \\\n",
    "           \"informedness \"+str(informedness),\\\n",
    "           \"markedness \"+str(markedness),\\\n",
    "           \"accuracy score \"+str(accuracy_scor),\\\n",
    "           \"average_precision_score \"+str(average_precision_scor),\\\n",
    "           \"f1_score \"+str(f1_scor),\\\n",
    "           \"log_loss \"+str(log_loss_),\\\n",
    "           \"roc auc score \"+str(roc_auc_scor)\n",
    "\n"
   ]
  },
  {
   "cell_type": "code",
   "execution_count": 7,
   "metadata": {},
   "outputs": [
    {
     "data": {
      "text/plain": [
       "('true negative 3',\n",
       " 'false positive 0',\n",
       " 'false negative 0',\n",
       " 'true positive 3',\n",
       " 'predictive accuracy 1.0',\n",
       " 'true positive rate 1.0',\n",
       " 'sensitivity 1.0',\n",
       " 'recall 1.0',\n",
       " 'hit rate 1.0',\n",
       " 'true negative rate 1.0',\n",
       " 'specificity 1.0',\n",
       " 'precision 1.0',\n",
       " 'positive predictive value 1.0',\n",
       " 'false_positive_rate 0.0',\n",
       " 'fall_out 0.0',\n",
       " 'false_negative_rate 0.0',\n",
       " 'miss_rate 0.0',\n",
       " 'negative_predictive_value 1.0',\n",
       " 'false_discovery_rate 0.0',\n",
       " 'informedness 1.0',\n",
       " 'markedness 2.0',\n",
       " 'accuracy score 1.0',\n",
       " 'average_precision_score 1.0',\n",
       " 'f1_score 1.0',\n",
       " 'log_loss 9.992007221626415e-16',\n",
       " 'roc auc score 1.0')"
      ]
     },
     "execution_count": 7,
     "metadata": {},
     "output_type": "execute_result"
    }
   ],
   "source": [
    "evaluate_performance(actual=[1 if p =='like' else 0 for p in y],\n",
    "                     propensity=pd.DataFrame(clf.predict_proba(X), columns=classes).iloc[:,1],\n",
    "                     cutoff=0.5)"
   ]
  },
  {
   "cell_type": "code",
   "execution_count": 8,
   "metadata": {},
   "outputs": [
    {
     "data": {
      "image/png": "[encoded data removed]",
      "text/plain": [
       "<Figure size 360x360 with 1 Axes>"
      ]
     },
     "metadata": {
      "needs_background": "light"
     },
     "output_type": "display_data"
    }
   ],
   "source": [
    "actual=[1 if p =='like' else 0 for p in y]\n",
    "propensity=pd.DataFrame(clf.predict_proba(X), columns=classes).iloc[:,1]\n",
    "\n",
    "fpr, tpr, _ = roc_curve(actual,propensity)\n",
    "roc_auc = auc(fpr, tpr)\n",
    "\n",
    "plt.figure(figsize=[5, 5])\n",
    "lw = 2\n",
    "plt.plot(fpr, tpr, color='darkorange',\n",
    "         lw=lw, label='ROC curve (area = %0.4f)' % roc_auc)\n",
    "plt.plot([0, 1], [0, 1], color='navy', lw=lw, linestyle='--')\n",
    "plt.xlim([0.0, 1.0])\n",
    "plt.ylim([0.0, 1.05])\n",
    "plt.xlabel('False Positive Rate (1 - Specificity)')\n",
    "plt.ylabel('True Positive Rate (Sensitivity)')\n",
    "plt.legend(loc=\"lower right\")\n",
    "\n",
    "plt.show()"
   ]
  },
  {
   "cell_type": "code",
   "execution_count": 9,
   "metadata": {},
   "outputs": [
    {
     "data": {
      "image/png": "[encoded data removed]",
      "text/plain": [
       "<Figure size 360x360 with 1 Axes>"
      ]
     },
     "metadata": {
      "needs_background": "light"
     },
     "output_type": "display_data"
    }
   ],
   "source": [
    "precision, recall, _ = precision_recall_curve(actual, propensity)\n",
    "\n",
    "plt.figure(figsize=[5, 5])\n",
    "lw = 2\n",
    "plt.plot(precision, recall, color='darkorange',\n",
    "         lw=lw, label='precision recall curve)')\n",
    "#plt.plot([0, 1], [0, 1], color='navy', lw=lw, linestyle='--')\n",
    "plt.xlim([0.0, 1.0])\n",
    "plt.ylim([0.0, 1.05])\n",
    "plt.xlabel('Recall')\n",
    "plt.ylabel('Precision')\n",
    "plt.legend(loc=\"lower right\")\n",
    "\n",
    "plt.show()"
   ]
  },
  {
   "cell_type": "markdown",
   "metadata": {},
   "source": [
    "+ ALCOHOL_I\t\tAlcohol involved = 1, not involved = 2\n",
    "+ PROFIL_I_R\t\t1= level, 0=other\n",
    "+ SUR_CON\t\tSurface conditions (1=dry, 2=wet, 3=snow/slush, 4=ice, 5=sand/dirt/oil, 8=other, 9=unknown)\n",
    "+ VEH_INVL\t\tNumber of vehicles involved\n",
    "+ MAX_SEV_IR\t\t0=no injury, 1=non-fatal inj., 2=fatal inj."
   ]
  },
  {
   "cell_type": "code",
   "execution_count": 10,
   "metadata": {},
   "outputs": [
    {
     "name": "stdout",
     "output_type": "stream",
     "text": [
      "<class 'pandas.core.frame.DataFrame'>\n",
      "RangeIndex: 999 entries, 0 to 998\n",
      "Data columns (total 5 columns):\n",
      " #   Column      Non-Null Count  Dtype\n",
      "---  ------      --------------  -----\n",
      " 0   ALCHL_I     999 non-null    int64\n",
      " 1   PROFIL_I_R  999 non-null    int64\n",
      " 2   SUR_COND    999 non-null    int64\n",
      " 3   VEH_INVL    999 non-null    int64\n",
      " 4   MAX_SEV_IR  999 non-null    int64\n",
      "dtypes: int64(5)\n",
      "memory usage: 39.1 KB\n"
     ]
    }
   ],
   "source": [
    "df = pd.read_csv('accidentsnn.csv')\n",
    "df.info()"
   ]
  },
  {
   "cell_type": "code",
   "execution_count": 11,
   "metadata": {},
   "outputs": [
    {
     "name": "stdout",
     "output_type": "stream",
     "text": [
      "ALCHL_I\n",
      "1    123\n",
      "2    876\n",
      "dtype: int64\n",
      "PROFIL_I_R\n",
      "0    771\n",
      "1    228\n",
      "dtype: int64\n",
      "SUR_COND\n",
      "1    782\n",
      "2    177\n",
      "3      8\n",
      "4     28\n",
      "9      4\n",
      "dtype: int64\n",
      "VEH_INVL\n",
      "1    746\n",
      "2    220\n",
      "3     21\n",
      "4     10\n",
      "5      2\n",
      "dtype: int64\n",
      "MAX_SEV_IR\n",
      "0    551\n",
      "1    299\n",
      "2    149\n",
      "dtype: int64\n"
     ]
    }
   ],
   "source": [
    "for x in df.columns:\n",
    "    print(df.groupby([x]).size())"
   ]
  },
  {
   "cell_type": "code",
   "execution_count": 12,
   "metadata": {},
   "outputs": [
    {
     "data": {
      "text/plain": [
       "ALCHL_I\n",
       "0    876\n",
       "1    123\n",
       "dtype: int64"
      ]
     },
     "execution_count": 12,
     "metadata": {},
     "output_type": "execute_result"
    }
   ],
   "source": [
    "df['ALCHL_I']=np.where(df['ALCHL_I']==2,0,df['ALCHL_I'])\n",
    "df.groupby(['ALCHL_I']).size()"
   ]
  },
  {
   "cell_type": "code",
   "execution_count": 13,
   "metadata": {},
   "outputs": [],
   "source": [
    "df=pd.get_dummies(df, columns=['SUR_COND']).drop('SUR_COND_9',axis=1)"
   ]
  },
  {
   "cell_type": "code",
   "execution_count": 14,
   "metadata": {},
   "outputs": [
    {
     "name": "stdout",
     "output_type": "stream",
     "text": [
      "<class 'pandas.core.frame.DataFrame'>\n",
      "RangeIndex: 999 entries, 0 to 998\n",
      "Data columns (total 8 columns):\n",
      " #   Column      Non-Null Count  Dtype\n",
      "---  ------      --------------  -----\n",
      " 0   ALCHL_I     999 non-null    int64\n",
      " 1   PROFIL_I_R  999 non-null    int64\n",
      " 2   VEH_INVL    999 non-null    int64\n",
      " 3   MAX_SEV_IR  999 non-null    int64\n",
      " 4   SUR_COND_1  999 non-null    uint8\n",
      " 5   SUR_COND_2  999 non-null    uint8\n",
      " 6   SUR_COND_3  999 non-null    uint8\n",
      " 7   SUR_COND_4  999 non-null    uint8\n",
      "dtypes: int64(4), uint8(4)\n",
      "memory usage: 35.2 KB\n"
     ]
    }
   ],
   "source": [
    "df.info()"
   ]
  },
  {
   "cell_type": "code",
   "execution_count": 15,
   "metadata": {},
   "outputs": [
    {
     "data": {
      "text/plain": [
       "VEH_INVL  VEH_INVL_imp\n",
       "1         0.00            746\n",
       "2         0.25            220\n",
       "3         0.50             21\n",
       "4         0.75             10\n",
       "5         1.00              2\n",
       "dtype: int64"
      ]
     },
     "execution_count": 15,
     "metadata": {},
     "output_type": "execute_result"
    }
   ],
   "source": [
    "df['VEH_INVL_imp']=( df['VEH_INVL'] - df['VEH_INVL'].min() ) / ( df['VEH_INVL'].max() - df['VEH_INVL'].min())\n",
    "df.groupby(['VEH_INVL','VEH_INVL_imp']).size()"
   ]
  },
  {
   "cell_type": "code",
   "execution_count": 16,
   "metadata": {},
   "outputs": [
    {
     "name": "stdout",
     "output_type": "stream",
     "text": [
      "<class 'pandas.core.frame.DataFrame'>\n",
      "RangeIndex: 999 entries, 0 to 998\n",
      "Data columns (total 9 columns):\n",
      " #   Column        Non-Null Count  Dtype  \n",
      "---  ------        --------------  -----  \n",
      " 0   ALCHL_I       999 non-null    int64  \n",
      " 1   PROFIL_I_R    999 non-null    int64  \n",
      " 2   VEH_INVL      999 non-null    int64  \n",
      " 3   SUR_COND_1    999 non-null    uint8  \n",
      " 4   SUR_COND_2    999 non-null    uint8  \n",
      " 5   SUR_COND_3    999 non-null    uint8  \n",
      " 6   SUR_COND_4    999 non-null    uint8  \n",
      " 7   VEH_INVL_imp  999 non-null    float64\n",
      " 8   outcome       999 non-null    int32  \n",
      "dtypes: float64(1), int32(1), int64(3), uint8(4)\n",
      "memory usage: 39.1 KB\n"
     ]
    }
   ],
   "source": [
    "#predict deaths\n",
    "\n",
    "df['outcome']=np.where(df['MAX_SEV_IR']>1,1,0)\n",
    "df=df.drop('MAX_SEV_IR',axis=1)\n",
    "df.info()"
   ]
  },
  {
   "cell_type": "code",
   "execution_count": 17,
   "metadata": {},
   "outputs": [
    {
     "data": {
      "text/plain": [
       "outcome\n",
       "0    850\n",
       "1    149\n",
       "dtype: int64"
      ]
     },
     "execution_count": 17,
     "metadata": {},
     "output_type": "execute_result"
    }
   ],
   "source": [
    "df.groupby(['outcome']).size()"
   ]
  },
  {
   "cell_type": "code",
   "execution_count": 18,
   "metadata": {},
   "outputs": [
    {
     "data": {
      "text/html": [
       "<div>\n",
       "<style scoped>\n",
       "    .dataframe tbody tr th:only-of-type {\n",
       "        vertical-align: middle;\n",
       "    }\n",
       "\n",
       "    .dataframe tbody tr th {\n",
       "        vertical-align: top;\n",
       "    }\n",
       "\n",
       "    .dataframe thead th {\n",
       "        text-align: right;\n",
       "    }\n",
       "</style>\n",
       "<table border=\"1\" class=\"dataframe\">\n",
       "  <thead>\n",
       "    <tr style=\"text-align: right;\">\n",
       "      <th></th>\n",
       "      <th>ALCHL_I</th>\n",
       "      <th>PROFIL_I_R</th>\n",
       "      <th>VEH_INVL</th>\n",
       "      <th>SUR_COND_1</th>\n",
       "      <th>SUR_COND_2</th>\n",
       "      <th>SUR_COND_3</th>\n",
       "      <th>SUR_COND_4</th>\n",
       "      <th>VEH_INVL_imp</th>\n",
       "      <th>outcome</th>\n",
       "    </tr>\n",
       "  </thead>\n",
       "  <tbody>\n",
       "    <tr>\n",
       "      <th>count</th>\n",
       "      <td>999.000000</td>\n",
       "      <td>999.000000</td>\n",
       "      <td>999.000000</td>\n",
       "      <td>999.000000</td>\n",
       "      <td>999.000000</td>\n",
       "      <td>999.000000</td>\n",
       "      <td>999.000000</td>\n",
       "      <td>999.000000</td>\n",
       "      <td>999.000000</td>\n",
       "    </tr>\n",
       "    <tr>\n",
       "      <th>mean</th>\n",
       "      <td>0.123123</td>\n",
       "      <td>0.228228</td>\n",
       "      <td>1.300300</td>\n",
       "      <td>0.782783</td>\n",
       "      <td>0.177177</td>\n",
       "      <td>0.008008</td>\n",
       "      <td>0.028028</td>\n",
       "      <td>0.075075</td>\n",
       "      <td>0.149149</td>\n",
       "    </tr>\n",
       "    <tr>\n",
       "      <th>std</th>\n",
       "      <td>0.328743</td>\n",
       "      <td>0.419901</td>\n",
       "      <td>0.580158</td>\n",
       "      <td>0.412558</td>\n",
       "      <td>0.382010</td>\n",
       "      <td>0.089173</td>\n",
       "      <td>0.165136</td>\n",
       "      <td>0.145039</td>\n",
       "      <td>0.356414</td>\n",
       "    </tr>\n",
       "    <tr>\n",
       "      <th>min</th>\n",
       "      <td>0.000000</td>\n",
       "      <td>0.000000</td>\n",
       "      <td>1.000000</td>\n",
       "      <td>0.000000</td>\n",
       "      <td>0.000000</td>\n",
       "      <td>0.000000</td>\n",
       "      <td>0.000000</td>\n",
       "      <td>0.000000</td>\n",
       "      <td>0.000000</td>\n",
       "    </tr>\n",
       "    <tr>\n",
       "      <th>25%</th>\n",
       "      <td>0.000000</td>\n",
       "      <td>0.000000</td>\n",
       "      <td>1.000000</td>\n",
       "      <td>1.000000</td>\n",
       "      <td>0.000000</td>\n",
       "      <td>0.000000</td>\n",
       "      <td>0.000000</td>\n",
       "      <td>0.000000</td>\n",
       "      <td>0.000000</td>\n",
       "    </tr>\n",
       "    <tr>\n",
       "      <th>50%</th>\n",
       "      <td>0.000000</td>\n",
       "      <td>0.000000</td>\n",
       "      <td>1.000000</td>\n",
       "      <td>1.000000</td>\n",
       "      <td>0.000000</td>\n",
       "      <td>0.000000</td>\n",
       "      <td>0.000000</td>\n",
       "      <td>0.000000</td>\n",
       "      <td>0.000000</td>\n",
       "    </tr>\n",
       "    <tr>\n",
       "      <th>75%</th>\n",
       "      <td>0.000000</td>\n",
       "      <td>0.000000</td>\n",
       "      <td>2.000000</td>\n",
       "      <td>1.000000</td>\n",
       "      <td>0.000000</td>\n",
       "      <td>0.000000</td>\n",
       "      <td>0.000000</td>\n",
       "      <td>0.250000</td>\n",
       "      <td>0.000000</td>\n",
       "    </tr>\n",
       "    <tr>\n",
       "      <th>max</th>\n",
       "      <td>1.000000</td>\n",
       "      <td>1.000000</td>\n",
       "      <td>5.000000</td>\n",
       "      <td>1.000000</td>\n",
       "      <td>1.000000</td>\n",
       "      <td>1.000000</td>\n",
       "      <td>1.000000</td>\n",
       "      <td>1.000000</td>\n",
       "      <td>1.000000</td>\n",
       "    </tr>\n",
       "  </tbody>\n",
       "</table>\n",
       "</div>"
      ],
      "text/plain": [
       "          ALCHL_I  PROFIL_I_R    VEH_INVL  SUR_COND_1  SUR_COND_2  SUR_COND_3  \\\n",
       "count  999.000000  999.000000  999.000000  999.000000  999.000000  999.000000   \n",
       "mean     0.123123    0.228228    1.300300    0.782783    0.177177    0.008008   \n",
       "std      0.328743    0.419901    0.580158    0.412558    0.382010    0.089173   \n",
       "min      0.000000    0.000000    1.000000    0.000000    0.000000    0.000000   \n",
       "25%      0.000000    0.000000    1.000000    1.000000    0.000000    0.000000   \n",
       "50%      0.000000    0.000000    1.000000    1.000000    0.000000    0.000000   \n",
       "75%      0.000000    0.000000    2.000000    1.000000    0.000000    0.000000   \n",
       "max      1.000000    1.000000    5.000000    1.000000    1.000000    1.000000   \n",
       "\n",
       "       SUR_COND_4  VEH_INVL_imp     outcome  \n",
       "count  999.000000    999.000000  999.000000  \n",
       "mean     0.028028      0.075075    0.149149  \n",
       "std      0.165136      0.145039    0.356414  \n",
       "min      0.000000      0.000000    0.000000  \n",
       "25%      0.000000      0.000000    0.000000  \n",
       "50%      0.000000      0.000000    0.000000  \n",
       "75%      0.000000      0.250000    0.000000  \n",
       "max      1.000000      1.000000    1.000000  "
      ]
     },
     "execution_count": 18,
     "metadata": {},
     "output_type": "execute_result"
    }
   ],
   "source": [
    "df.describe()"
   ]
  },
  {
   "cell_type": "code",
   "execution_count": 19,
   "metadata": {},
   "outputs": [
    {
     "data": {
      "text/html": [
       "<div>\n",
       "<style scoped>\n",
       "    .dataframe tbody tr th:only-of-type {\n",
       "        vertical-align: middle;\n",
       "    }\n",
       "\n",
       "    .dataframe tbody tr th {\n",
       "        vertical-align: top;\n",
       "    }\n",
       "\n",
       "    .dataframe thead th {\n",
       "        text-align: right;\n",
       "    }\n",
       "</style>\n",
       "<table border=\"1\" class=\"dataframe\">\n",
       "  <thead>\n",
       "    <tr style=\"text-align: right;\">\n",
       "      <th></th>\n",
       "      <th>ALCHL_I</th>\n",
       "      <th>PROFIL_I_R</th>\n",
       "      <th>VEH_INVL</th>\n",
       "      <th>SUR_COND_1</th>\n",
       "      <th>SUR_COND_2</th>\n",
       "      <th>SUR_COND_3</th>\n",
       "      <th>SUR_COND_4</th>\n",
       "      <th>VEH_INVL_imp</th>\n",
       "      <th>outcome</th>\n",
       "    </tr>\n",
       "  </thead>\n",
       "  <tbody>\n",
       "    <tr>\n",
       "      <th>ALCHL_I</th>\n",
       "      <td>1.000000</td>\n",
       "      <td>0.043030</td>\n",
       "      <td>-0.031191</td>\n",
       "      <td>0.086571</td>\n",
       "      <td>-0.078135</td>\n",
       "      <td>-0.033667</td>\n",
       "      <td>-0.045174</td>\n",
       "      <td>-0.031191</td>\n",
       "      <td>0.270705</td>\n",
       "    </tr>\n",
       "    <tr>\n",
       "      <th>PROFIL_I_R</th>\n",
       "      <td>0.043030</td>\n",
       "      <td>1.000000</td>\n",
       "      <td>0.298335</td>\n",
       "      <td>-0.066370</td>\n",
       "      <td>0.059991</td>\n",
       "      <td>0.004661</td>\n",
       "      <td>0.023260</td>\n",
       "      <td>0.298335</td>\n",
       "      <td>0.200818</td>\n",
       "    </tr>\n",
       "    <tr>\n",
       "      <th>VEH_INVL</th>\n",
       "      <td>-0.031191</td>\n",
       "      <td>0.298335</td>\n",
       "      <td>1.000000</td>\n",
       "      <td>-0.317473</td>\n",
       "      <td>0.311267</td>\n",
       "      <td>0.069679</td>\n",
       "      <td>0.048023</td>\n",
       "      <td>1.000000</td>\n",
       "      <td>0.132075</td>\n",
       "    </tr>\n",
       "    <tr>\n",
       "      <th>SUR_COND_1</th>\n",
       "      <td>0.086571</td>\n",
       "      <td>-0.066370</td>\n",
       "      <td>-0.317473</td>\n",
       "      <td>1.000000</td>\n",
       "      <td>-0.880895</td>\n",
       "      <td>-0.170562</td>\n",
       "      <td>-0.322361</td>\n",
       "      <td>-0.317473</td>\n",
       "      <td>0.029747</td>\n",
       "    </tr>\n",
       "    <tr>\n",
       "      <th>SUR_COND_2</th>\n",
       "      <td>-0.078135</td>\n",
       "      <td>0.059991</td>\n",
       "      <td>0.311267</td>\n",
       "      <td>-0.880895</td>\n",
       "      <td>1.000000</td>\n",
       "      <td>-0.041693</td>\n",
       "      <td>-0.078799</td>\n",
       "      <td>0.311267</td>\n",
       "      <td>-0.039736</td>\n",
       "    </tr>\n",
       "    <tr>\n",
       "      <th>SUR_COND_3</th>\n",
       "      <td>-0.033667</td>\n",
       "      <td>0.004661</td>\n",
       "      <td>0.069679</td>\n",
       "      <td>-0.170562</td>\n",
       "      <td>-0.041693</td>\n",
       "      <td>1.000000</td>\n",
       "      <td>-0.015257</td>\n",
       "      <td>0.069679</td>\n",
       "      <td>-0.006091</td>\n",
       "    </tr>\n",
       "    <tr>\n",
       "      <th>SUR_COND_4</th>\n",
       "      <td>-0.045174</td>\n",
       "      <td>0.023260</td>\n",
       "      <td>0.048023</td>\n",
       "      <td>-0.322361</td>\n",
       "      <td>-0.078799</td>\n",
       "      <td>-0.015257</td>\n",
       "      <td>1.000000</td>\n",
       "      <td>0.048023</td>\n",
       "      <td>-0.020024</td>\n",
       "    </tr>\n",
       "    <tr>\n",
       "      <th>VEH_INVL_imp</th>\n",
       "      <td>-0.031191</td>\n",
       "      <td>0.298335</td>\n",
       "      <td>1.000000</td>\n",
       "      <td>-0.317473</td>\n",
       "      <td>0.311267</td>\n",
       "      <td>0.069679</td>\n",
       "      <td>0.048023</td>\n",
       "      <td>1.000000</td>\n",
       "      <td>0.132075</td>\n",
       "    </tr>\n",
       "    <tr>\n",
       "      <th>outcome</th>\n",
       "      <td>0.270705</td>\n",
       "      <td>0.200818</td>\n",
       "      <td>0.132075</td>\n",
       "      <td>0.029747</td>\n",
       "      <td>-0.039736</td>\n",
       "      <td>-0.006091</td>\n",
       "      <td>-0.020024</td>\n",
       "      <td>0.132075</td>\n",
       "      <td>1.000000</td>\n",
       "    </tr>\n",
       "  </tbody>\n",
       "</table>\n",
       "</div>"
      ],
      "text/plain": [
       "               ALCHL_I  PROFIL_I_R  VEH_INVL  SUR_COND_1  SUR_COND_2  \\\n",
       "ALCHL_I       1.000000    0.043030 -0.031191    0.086571   -0.078135   \n",
       "PROFIL_I_R    0.043030    1.000000  0.298335   -0.066370    0.059991   \n",
       "VEH_INVL     -0.031191    0.298335  1.000000   -0.317473    0.311267   \n",
       "SUR_COND_1    0.086571   -0.066370 -0.317473    1.000000   -0.880895   \n",
       "SUR_COND_2   -0.078135    0.059991  0.311267   -0.880895    1.000000   \n",
       "SUR_COND_3   -0.033667    0.004661  0.069679   -0.170562   -0.041693   \n",
       "SUR_COND_4   -0.045174    0.023260  0.048023   -0.322361   -0.078799   \n",
       "VEH_INVL_imp -0.031191    0.298335  1.000000   -0.317473    0.311267   \n",
       "outcome       0.270705    0.200818  0.132075    0.029747   -0.039736   \n",
       "\n",
       "              SUR_COND_3  SUR_COND_4  VEH_INVL_imp   outcome  \n",
       "ALCHL_I        -0.033667   -0.045174     -0.031191  0.270705  \n",
       "PROFIL_I_R      0.004661    0.023260      0.298335  0.200818  \n",
       "VEH_INVL        0.069679    0.048023      1.000000  0.132075  \n",
       "SUR_COND_1     -0.170562   -0.322361     -0.317473  0.029747  \n",
       "SUR_COND_2     -0.041693   -0.078799      0.311267 -0.039736  \n",
       "SUR_COND_3      1.000000   -0.015257      0.069679 -0.006091  \n",
       "SUR_COND_4     -0.015257    1.000000      0.048023 -0.020024  \n",
       "VEH_INVL_imp    0.069679    0.048023      1.000000  0.132075  \n",
       "outcome        -0.006091   -0.020024      0.132075  1.000000  "
      ]
     },
     "execution_count": 19,
     "metadata": {},
     "output_type": "execute_result"
    }
   ],
   "source": [
    "df.corr()"
   ]
  },
  {
   "cell_type": "code",
   "execution_count": 20,
   "metadata": {},
   "outputs": [],
   "source": [
    "predictors=['ALCHL_I', 'PROFIL_I_R', 'SUR_COND_1', 'SUR_COND_2',\n",
    "       'SUR_COND_3', 'SUR_COND_4', 'VEH_INVL_imp',]\n",
    "target=['outcome']\n",
    "\n",
    "# partition data\n",
    "X = df[predictors]\n",
    "y = df[target]"
   ]
  },
  {
   "cell_type": "code",
   "execution_count": 21,
   "metadata": {},
   "outputs": [
    {
     "data": {
      "text/html": [
       "<div>\n",
       "<style scoped>\n",
       "    .dataframe tbody tr th:only-of-type {\n",
       "        vertical-align: middle;\n",
       "    }\n",
       "\n",
       "    .dataframe tbody tr th {\n",
       "        vertical-align: top;\n",
       "    }\n",
       "\n",
       "    .dataframe thead th {\n",
       "        text-align: right;\n",
       "    }\n",
       "</style>\n",
       "<table border=\"1\" class=\"dataframe\">\n",
       "  <thead>\n",
       "    <tr style=\"text-align: right;\">\n",
       "      <th></th>\n",
       "      <th>ALCHL_I</th>\n",
       "      <th>PROFIL_I_R</th>\n",
       "      <th>SUR_COND_1</th>\n",
       "      <th>SUR_COND_2</th>\n",
       "      <th>SUR_COND_3</th>\n",
       "      <th>SUR_COND_4</th>\n",
       "      <th>VEH_INVL_imp</th>\n",
       "    </tr>\n",
       "  </thead>\n",
       "  <tbody>\n",
       "    <tr>\n",
       "      <th>0</th>\n",
       "      <td>0</td>\n",
       "      <td>0</td>\n",
       "      <td>1</td>\n",
       "      <td>0</td>\n",
       "      <td>0</td>\n",
       "      <td>0</td>\n",
       "      <td>0.00</td>\n",
       "    </tr>\n",
       "    <tr>\n",
       "      <th>1</th>\n",
       "      <td>0</td>\n",
       "      <td>1</td>\n",
       "      <td>1</td>\n",
       "      <td>0</td>\n",
       "      <td>0</td>\n",
       "      <td>0</td>\n",
       "      <td>0.00</td>\n",
       "    </tr>\n",
       "    <tr>\n",
       "      <th>2</th>\n",
       "      <td>1</td>\n",
       "      <td>0</td>\n",
       "      <td>1</td>\n",
       "      <td>0</td>\n",
       "      <td>0</td>\n",
       "      <td>0</td>\n",
       "      <td>0.00</td>\n",
       "    </tr>\n",
       "    <tr>\n",
       "      <th>3</th>\n",
       "      <td>0</td>\n",
       "      <td>0</td>\n",
       "      <td>0</td>\n",
       "      <td>1</td>\n",
       "      <td>0</td>\n",
       "      <td>0</td>\n",
       "      <td>0.25</td>\n",
       "    </tr>\n",
       "    <tr>\n",
       "      <th>4</th>\n",
       "      <td>0</td>\n",
       "      <td>1</td>\n",
       "      <td>1</td>\n",
       "      <td>0</td>\n",
       "      <td>0</td>\n",
       "      <td>0</td>\n",
       "      <td>0.25</td>\n",
       "    </tr>\n",
       "  </tbody>\n",
       "</table>\n",
       "</div>"
      ],
      "text/plain": [
       "   ALCHL_I  PROFIL_I_R  SUR_COND_1  SUR_COND_2  SUR_COND_3  SUR_COND_4  \\\n",
       "0        0           0           1           0           0           0   \n",
       "1        0           1           1           0           0           0   \n",
       "2        1           0           1           0           0           0   \n",
       "3        0           0           0           1           0           0   \n",
       "4        0           1           1           0           0           0   \n",
       "\n",
       "   VEH_INVL_imp  \n",
       "0          0.00  \n",
       "1          0.00  \n",
       "2          0.00  \n",
       "3          0.25  \n",
       "4          0.25  "
      ]
     },
     "execution_count": 21,
     "metadata": {},
     "output_type": "execute_result"
    }
   ],
   "source": [
    "X.head()"
   ]
  },
  {
   "cell_type": "code",
   "execution_count": 22,
   "metadata": {},
   "outputs": [
    {
     "data": {
      "text/html": [
       "<div>\n",
       "<style scoped>\n",
       "    .dataframe tbody tr th:only-of-type {\n",
       "        vertical-align: middle;\n",
       "    }\n",
       "\n",
       "    .dataframe tbody tr th {\n",
       "        vertical-align: top;\n",
       "    }\n",
       "\n",
       "    .dataframe thead th {\n",
       "        text-align: right;\n",
       "    }\n",
       "</style>\n",
       "<table border=\"1\" class=\"dataframe\">\n",
       "  <thead>\n",
       "    <tr style=\"text-align: right;\">\n",
       "      <th></th>\n",
       "      <th>outcome</th>\n",
       "    </tr>\n",
       "  </thead>\n",
       "  <tbody>\n",
       "    <tr>\n",
       "      <th>0</th>\n",
       "      <td>0</td>\n",
       "    </tr>\n",
       "    <tr>\n",
       "      <th>1</th>\n",
       "      <td>1</td>\n",
       "    </tr>\n",
       "    <tr>\n",
       "      <th>2</th>\n",
       "      <td>0</td>\n",
       "    </tr>\n",
       "    <tr>\n",
       "      <th>3</th>\n",
       "      <td>0</td>\n",
       "    </tr>\n",
       "    <tr>\n",
       "      <th>4</th>\n",
       "      <td>0</td>\n",
       "    </tr>\n",
       "    <tr>\n",
       "      <th>...</th>\n",
       "      <td>...</td>\n",
       "    </tr>\n",
       "    <tr>\n",
       "      <th>994</th>\n",
       "      <td>0</td>\n",
       "    </tr>\n",
       "    <tr>\n",
       "      <th>995</th>\n",
       "      <td>0</td>\n",
       "    </tr>\n",
       "    <tr>\n",
       "      <th>996</th>\n",
       "      <td>0</td>\n",
       "    </tr>\n",
       "    <tr>\n",
       "      <th>997</th>\n",
       "      <td>1</td>\n",
       "    </tr>\n",
       "    <tr>\n",
       "      <th>998</th>\n",
       "      <td>0</td>\n",
       "    </tr>\n",
       "  </tbody>\n",
       "</table>\n",
       "<p>999 rows × 1 columns</p>\n",
       "</div>"
      ],
      "text/plain": [
       "     outcome\n",
       "0          0\n",
       "1          1\n",
       "2          0\n",
       "3          0\n",
       "4          0\n",
       "..       ...\n",
       "994        0\n",
       "995        0\n",
       "996        0\n",
       "997        1\n",
       "998        0\n",
       "\n",
       "[999 rows x 1 columns]"
      ]
     },
     "execution_count": 22,
     "metadata": {},
     "output_type": "execute_result"
    }
   ],
   "source": [
    "y"
   ]
  },
  {
   "cell_type": "code",
   "execution_count": 23,
   "metadata": {},
   "outputs": [
    {
     "name": "stderr",
     "output_type": "stream",
     "text": [
      "C:\\Users\\rtreichl\\Anaconda3\\lib\\site-packages\\sklearn\\neural_network\\_multilayer_perceptron.py:934: DataConversionWarning: A column-vector y was passed when a 1d array was expected. Please change the shape of y to (n_samples, ), for example using ravel().\n",
      "  y = column_or_1d(y, warn=True)\n"
     ]
    },
    {
     "data": {
      "text/plain": [
       "MLPClassifier(activation='logistic', alpha=0.0001, batch_size='auto',\n",
       "              beta_1=0.9, beta_2=0.999, early_stopping=False, epsilon=1e-08,\n",
       "              hidden_layer_sizes=1, learning_rate='constant',\n",
       "              learning_rate_init=0.001, max_fun=15000, max_iter=200,\n",
       "              momentum=0.9, n_iter_no_change=10, nesterovs_momentum=True,\n",
       "              power_t=0.5, random_state=1, shuffle=True, solver='lbfgs',\n",
       "              tol=0.0001, validation_fraction=0.1, verbose=False,\n",
       "              warm_start=False)"
      ]
     },
     "execution_count": 23,
     "metadata": {},
     "output_type": "execute_result"
    }
   ],
   "source": [
    "\n",
    "train_X, valid_X, train_y, valid_y = train_test_split(X, y, test_size=0.4, random_state=1)\n",
    "\n",
    "# train neural network with 2 hidden nodes\n",
    "clf = MLPClassifier(hidden_layer_sizes=(1), activation='logistic', solver='lbfgs',\n",
    "                    random_state=1,max_iter=200)\n",
    "clf.fit(train_X, train_y.values)\n",
    "\n"
   ]
  },
  {
   "cell_type": "code",
   "execution_count": 24,
   "metadata": {},
   "outputs": [
    {
     "name": "stderr",
     "output_type": "stream",
     "text": [
      "C:\\Users\\rtreichl\\Anaconda3\\lib\\site-packages\\ipykernel_launcher.py:28: RuntimeWarning: invalid value encountered in longlong_scalars\n",
      "C:\\Users\\rtreichl\\Anaconda3\\lib\\site-packages\\ipykernel_launcher.py:57: RuntimeWarning: invalid value encountered in longlong_scalars\n"
     ]
    },
    {
     "data": {
      "text/plain": [
       "('true negative 338',\n",
       " 'false positive 0',\n",
       " 'false negative 62',\n",
       " 'true positive 0',\n",
       " 'predictive accuracy 0.845',\n",
       " 'true positive rate 0.0',\n",
       " 'sensitivity 0.0',\n",
       " 'recall 0.0',\n",
       " 'hit rate 0.0',\n",
       " 'true negative rate 1.0',\n",
       " 'specificity 1.0',\n",
       " 'precision nan',\n",
       " 'positive predictive value nan',\n",
       " 'false_positive_rate 0.0',\n",
       " 'fall_out 0.0',\n",
       " 'false_negative_rate 1.0',\n",
       " 'miss_rate 1.0',\n",
       " 'negative_predictive_value 0.845',\n",
       " 'false_discovery_rate nan',\n",
       " 'informedness 0.0',\n",
       " 'markedness nan',\n",
       " 'accuracy score 0.845',\n",
       " 'average_precision_score 0.155',\n",
       " 'f1_score 0.0',\n",
       " 'log_loss 5.353510341211156',\n",
       " 'roc auc score 0.5')"
      ]
     },
     "execution_count": 24,
     "metadata": {},
     "output_type": "execute_result"
    }
   ],
   "source": [
    "actual=valid_y\n",
    "propensity=pd.DataFrame(clf.predict_proba(valid_X)).iloc[:,1]\n",
    "\n",
    "evaluate_performance(actual=actual,\n",
    "                     propensity=propensity,\n",
    "                     cutoff=0.5)"
   ]
  },
  {
   "cell_type": "code",
   "execution_count": 25,
   "metadata": {},
   "outputs": [
    {
     "data": {
      "image/png": "[encoded data removed]",
      "text/plain": [
       "<Figure size 360x360 with 1 Axes>"
      ]
     },
     "metadata": {
      "needs_background": "light"
     },
     "output_type": "display_data"
    }
   ],
   "source": [
    "\n",
    "fpr, tpr, _ = roc_curve(actual,propensity)\n",
    "roc_auc = auc(fpr, tpr)\n",
    "\n",
    "plt.figure(figsize=[5, 5])\n",
    "lw = 2\n",
    "plt.plot(fpr, tpr, color='darkorange',\n",
    "         lw=lw, label='ROC curve (area = %0.4f)' % roc_auc)\n",
    "plt.plot([0, 1], [0, 1], color='navy', lw=lw, linestyle='--')\n",
    "plt.xlim([0.0, 1.0])\n",
    "plt.ylim([0.0, 1.05])\n",
    "plt.xlabel('False Positive Rate (1 - Specificity)')\n",
    "plt.ylabel('True Positive Rate (Sensitivity)')\n",
    "plt.legend(loc=\"lower right\")\n",
    "\n",
    "plt.show()"
   ]
  },
  {
   "cell_type": "code",
   "execution_count": 26,
   "metadata": {},
   "outputs": [
    {
     "data": {
      "image/png": "[encoded data removed]",
      "text/plain": [
       "<Figure size 360x360 with 1 Axes>"
      ]
     },
     "metadata": {
      "needs_background": "light"
     },
     "output_type": "display_data"
    }
   ],
   "source": [
    "precision, recall, _ = precision_recall_curve(actual, propensity)\n",
    "\n",
    "plt.figure(figsize=[5, 5])\n",
    "lw = 2\n",
    "plt.plot(precision, recall, color='darkorange',\n",
    "         lw=lw, label='precision recall curve)')\n",
    "#plt.plot([0, 1], [0, 1], color='navy', lw=lw, linestyle='--')\n",
    "plt.xlim([0.0, 1.0])\n",
    "plt.ylim([0.0, 1.05])\n",
    "plt.xlabel('Recall')\n",
    "plt.ylabel('Precision')\n",
    "plt.legend(loc=\"lower right\")\n",
    "\n",
    "plt.show()"
   ]
  },
  {
   "cell_type": "code",
   "execution_count": 27,
   "metadata": {},
   "outputs": [
    {
     "data": {
      "text/plain": [
       "[(1, 1),\n",
       " (1, 2),\n",
       " (1, 3),\n",
       " (1, 4),\n",
       " (1, 5),\n",
       " (1, 6),\n",
       " (1, 7),\n",
       " (1, 8),\n",
       " (1, 9),\n",
       " (2, 1),\n",
       " (2, 2),\n",
       " (2, 3),\n",
       " (2, 4),\n",
       " (2, 5),\n",
       " (2, 6),\n",
       " (2, 7),\n",
       " (2, 8),\n",
       " (2, 9),\n",
       " (3, 1),\n",
       " (3, 2),\n",
       " (3, 3),\n",
       " (3, 4),\n",
       " (3, 5),\n",
       " (3, 6),\n",
       " (3, 7),\n",
       " (3, 8),\n",
       " (3, 9),\n",
       " (4, 1),\n",
       " (4, 2),\n",
       " (4, 3),\n",
       " (4, 4),\n",
       " (4, 5),\n",
       " (4, 6),\n",
       " (4, 7),\n",
       " (4, 8),\n",
       " (4, 9),\n",
       " (5, 1),\n",
       " (5, 2),\n",
       " (5, 3),\n",
       " (5, 4),\n",
       " (5, 5),\n",
       " (5, 6),\n",
       " (5, 7),\n",
       " (5, 8),\n",
       " (5, 9)]"
      ]
     },
     "execution_count": 27,
     "metadata": {},
     "output_type": "execute_result"
    }
   ],
   "source": [
    "hidden_layer=[]\n",
    "for l in range(1,6):\n",
    "    for n in range(1,10):\n",
    "        hidden_layer.append((l,n))\n",
    "hidden_layer"
   ]
  },
  {
   "cell_type": "code",
   "execution_count": 28,
   "metadata": {},
   "outputs": [
    {
     "name": "stderr",
     "output_type": "stream",
     "text": [
      "C:\\Users\\rtreichl\\Anaconda3\\lib\\site-packages\\sklearn\\neural_network\\_multilayer_perceptron.py:934: DataConversionWarning: A column-vector y was passed when a 1d array was expected. Please change the shape of y to (n_samples, ), for example using ravel().\n",
      "  y = column_or_1d(y, warn=True)\n"
     ]
    },
    {
     "name": "stdout",
     "output_type": "stream",
     "text": [
      "Initial score:  0.8664145658263305\n",
      "Initial parameters:  {'activation': 'relu', 'hidden_layer_sizes': (4, 8)}\n"
     ]
    }
   ],
   "source": [
    "param_grid = {\n",
    "    'hidden_layer_sizes': hidden_layer,\n",
    "    'activation':  ['identity', 'logistic', 'tanh', 'relu'],\n",
    "    }\n",
    "\n",
    "gridSearch = GridSearchCV(MLPClassifier(#activation='logistic',\n",
    "    solver='lbfgs', \n",
    "    random_state=1,max_iter=1000),param_grid, cv=5, n_jobs=-1, return_train_score=True)\n",
    "gridSearch.fit(train_X, train_y)\n",
    "print('Initial score: ', gridSearch.best_score_)\n",
    "print('Initial parameters: ', gridSearch.best_params_)"
   ]
  },
  {
   "cell_type": "code",
   "execution_count": 29,
   "metadata": {},
   "outputs": [
    {
     "name": "stdout",
     "output_type": "stream",
     "text": [
      "    param_hidden_layer_sizes  mean_test_score  std_test_score\n",
      "0                     (1, 1)         0.858081        0.009370\n",
      "1                     (1, 2)         0.863081        0.010343\n",
      "2                     (1, 3)         0.858081        0.009370\n",
      "3                     (1, 4)         0.854748        0.004409\n",
      "4                     (1, 5)         0.858081        0.009370\n",
      "..                       ...              ...             ...\n",
      "175                   (5, 5)         0.856401        0.013640\n",
      "176                   (5, 6)         0.849720        0.014286\n",
      "177                   (5, 7)         0.856443        0.016870\n",
      "178                   (5, 8)         0.858067        0.014269\n",
      "179                   (5, 9)         0.853081        0.008611\n",
      "\n",
      "[180 rows x 3 columns]\n"
     ]
    }
   ],
   "source": [
    "display=['param_hidden_layer_sizes', 'mean_test_score', 'std_test_score']\n",
    "print(pd.DataFrame(gridSearch.cv_results_)[display])"
   ]
  },
  {
   "cell_type": "code",
   "execution_count": 30,
   "metadata": {},
   "outputs": [
    {
     "data": {
      "text/plain": [
       "<matplotlib.axes._subplots.AxesSubplot at 0x245244667c8>"
      ]
     },
     "execution_count": 30,
     "metadata": {},
     "output_type": "execute_result"
    },
    {
     "data": {
      "image/png": "[encoded data removed]",
      "text/plain": [
       "<Figure size 432x288 with 1 Axes>"
      ]
     },
     "metadata": {
      "needs_background": "light"
     },
     "output_type": "display_data"
    }
   ],
   "source": [
    "pd.DataFrame(gridSearch.cv_results_)[display].plot(x='param_hidden_layer_sizes', \n",
    "                                                   y='mean_test_score', yerr='std_test_score', ylim=(0.84, 0.90))"
   ]
  },
  {
   "cell_type": "code",
   "execution_count": 31,
   "metadata": {},
   "outputs": [
    {
     "name": "stderr",
     "output_type": "stream",
     "text": [
      "C:\\Users\\rtreichl\\Anaconda3\\lib\\site-packages\\sklearn\\neural_network\\_multilayer_perceptron.py:934: DataConversionWarning: A column-vector y was passed when a 1d array was expected. Please change the shape of y to (n_samples, ), for example using ravel().\n",
      "  y = column_or_1d(y, warn=True)\n"
     ]
    },
    {
     "data": {
      "text/plain": [
       "MLPClassifier(activation='relu', alpha=0.0001, batch_size='auto', beta_1=0.9,\n",
       "              beta_2=0.999, early_stopping=False, epsilon=1e-08,\n",
       "              hidden_layer_sizes=(4, 8), learning_rate='constant',\n",
       "              learning_rate_init=0.001, max_fun=15000, max_iter=300,\n",
       "              momentum=0.9, n_iter_no_change=10, nesterovs_momentum=True,\n",
       "              power_t=0.5, random_state=1, shuffle=True, solver='lbfgs',\n",
       "              tol=0.0001, validation_fraction=0.1, verbose=False,\n",
       "              warm_start=False)"
      ]
     },
     "execution_count": 31,
     "metadata": {},
     "output_type": "execute_result"
    }
   ],
   "source": [
    "# train neural network with 2 hidden nodes\n",
    "clf = MLPClassifier(hidden_layer_sizes=(4,8), activation='relu', solver='lbfgs',\n",
    "                    random_state=1,max_iter=300)\n",
    "clf.fit(train_X, train_y.values)\n"
   ]
  },
  {
   "cell_type": "code",
   "execution_count": 32,
   "metadata": {},
   "outputs": [
    {
     "data": {
      "text/plain": [
       "('true negative 334',\n",
       " 'false positive 4',\n",
       " 'false negative 50',\n",
       " 'true positive 12',\n",
       " 'predictive accuracy 0.865',\n",
       " 'true positive rate 0.1935483870967742',\n",
       " 'sensitivity 0.1935483870967742',\n",
       " 'recall 0.1935483870967742',\n",
       " 'hit rate 0.1935483870967742',\n",
       " 'true negative rate 0.9881656804733728',\n",
       " 'specificity 0.9881656804733728',\n",
       " 'precision 0.75',\n",
       " 'positive predictive value 0.75',\n",
       " 'false_positive_rate 0.011834319526627219',\n",
       " 'fall_out 0.011834319526627219',\n",
       " 'false_negative_rate 0.8064516129032258',\n",
       " 'miss_rate 0.8064516129032258',\n",
       " 'negative_predictive_value 0.8697916666666666',\n",
       " 'false_discovery_rate 0.25',\n",
       " 'informedness 0.18171406757014696',\n",
       " 'markedness 1.6197916666666665',\n",
       " 'accuracy score 0.865',\n",
       " 'average_precision_score 0.2701612903225806',\n",
       " 'f1_score 0.30769230769230765',\n",
       " 'log_loss 4.662742809287245',\n",
       " 'roc auc score 0.5908570337850736')"
      ]
     },
     "execution_count": 32,
     "metadata": {},
     "output_type": "execute_result"
    }
   ],
   "source": [
    "actual=valid_y\n",
    "propensity=pd.DataFrame(clf.predict_proba(valid_X)).iloc[:,1]\n",
    "\n",
    "evaluate_performance(actual=actual,\n",
    "                     propensity=propensity,\n",
    "                     cutoff=0.5)"
   ]
  },
  {
   "cell_type": "code",
   "execution_count": 33,
   "metadata": {},
   "outputs": [
    {
     "data": {
      "image/png": "[encoded data removed]",
      "text/plain": [
       "<Figure size 360x360 with 1 Axes>"
      ]
     },
     "metadata": {
      "needs_background": "light"
     },
     "output_type": "display_data"
    }
   ],
   "source": [
    "fpr, tpr, _ = roc_curve(actual,propensity)\n",
    "roc_auc = auc(fpr, tpr)\n",
    "\n",
    "plt.figure(figsize=[5, 5])\n",
    "lw = 2\n",
    "plt.plot(fpr, tpr, color='darkorange',\n",
    "         lw=lw, label='ROC curve (area = %0.4f)' % roc_auc)\n",
    "plt.plot([0, 1], [0, 1], color='navy', lw=lw, linestyle='--')\n",
    "plt.xlim([0.0, 1.0])\n",
    "plt.ylim([0.0, 1.05])\n",
    "plt.xlabel('False Positive Rate (1 - Specificity)')\n",
    "plt.ylabel('True Positive Rate (Sensitivity)')\n",
    "plt.legend(loc=\"lower right\")\n",
    "\n",
    "plt.show()"
   ]
  },
  {
   "cell_type": "code",
   "execution_count": 34,
   "metadata": {},
   "outputs": [
    {
     "data": {
      "image/png": "[encoded data removed]",
      "text/plain": [
       "<Figure size 360x360 with 1 Axes>"
      ]
     },
     "metadata": {
      "needs_background": "light"
     },
     "output_type": "display_data"
    }
   ],
   "source": [
    "precision, recall, _ = precision_recall_curve(actual, propensity)\n",
    "\n",
    "plt.figure(figsize=[5, 5])\n",
    "lw = 2\n",
    "plt.plot(precision, recall, color='darkorange',\n",
    "         lw=lw, label='precision recall curve)')\n",
    "#plt.plot([0, 1], [0, 1], color='navy', lw=lw, linestyle='--')\n",
    "plt.xlim([0.0, 1.0])\n",
    "plt.ylim([0.0, 1.05])\n",
    "plt.xlabel('Recall')\n",
    "plt.ylabel('Precision')\n",
    "plt.legend(loc=\"lower right\")\n",
    "\n",
    "plt.show()"
   ]
  },
  {
   "cell_type": "code",
   "execution_count": null,
   "metadata": {},
   "outputs": [],
   "source": []
  },
  {
   "cell_type": "markdown",
   "metadata": {},
   "source": [
    "+    ID   \t\t \t Customer ID\n",
    "+    Age   \t\t Customer's age in completed years\n",
    "+    Experience   \t #years of professional experience\n",
    "+    Income   \t\t Annual income of the customer ($000)\n",
    "+    ZIPCode   \t\t Home Address ZIP code.\n",
    "+    Family   \t\t Family size of the customer\n",
    "+    CCAvg   \t\t Avg. spending on credit cards per month (000)\n",
    "+    Education   \t \t Education Level. 1: Undergrad; 2: Graduate; 3: Advanced/Professional\n",
    "+    Mortgage   \t \t Value of house mortgage if any. (000)\n",
    "+    Personal Loan   \t Did this customer accept the personal loan offered in the last campaign?\n",
    "+    Securities Account   Does the customer have a securities account with the bank?\n",
    "+    CD Account   \t Does the customer have a certificate of deposit (CD) account with the bank?\n",
    "+    Online   \t\t Does the customer use internet banking facilities?\n",
    "+    CreditCard   \t Does the customer use a credit card issued by UniversalBank?\n"
   ]
  },
  {
   "cell_type": "code",
   "execution_count": 35,
   "metadata": {},
   "outputs": [
    {
     "name": "stdout",
     "output_type": "stream",
     "text": [
      "<class 'pandas.core.frame.DataFrame'>\n",
      "RangeIndex: 5000 entries, 0 to 4999\n",
      "Data columns (total 14 columns):\n",
      " #   Column              Non-Null Count  Dtype  \n",
      "---  ------              --------------  -----  \n",
      " 0   ID                  5000 non-null   int64  \n",
      " 1   Age                 5000 non-null   int64  \n",
      " 2   Experience          5000 non-null   int64  \n",
      " 3   Income              5000 non-null   int64  \n",
      " 4   ZIP Code            5000 non-null   int64  \n",
      " 5   Family              5000 non-null   int64  \n",
      " 6   CCAvg               5000 non-null   float64\n",
      " 7   Education           5000 non-null   int64  \n",
      " 8   Mortgage            5000 non-null   int64  \n",
      " 9   Personal Loan       5000 non-null   int64  \n",
      " 10  Securities Account  5000 non-null   int64  \n",
      " 11  CD Account          5000 non-null   int64  \n",
      " 12  Online              5000 non-null   int64  \n",
      " 13  CreditCard          5000 non-null   int64  \n",
      "dtypes: float64(1), int64(13)\n",
      "memory usage: 547.0 KB\n"
     ]
    }
   ],
   "source": [
    "df = pd.read_csv('UniversalBank.csv')\n",
    "df.info()"
   ]
  },
  {
   "cell_type": "code",
   "execution_count": 36,
   "metadata": {},
   "outputs": [
    {
     "data": {
      "text/html": [
       "<div>\n",
       "<style scoped>\n",
       "    .dataframe tbody tr th:only-of-type {\n",
       "        vertical-align: middle;\n",
       "    }\n",
       "\n",
       "    .dataframe tbody tr th {\n",
       "        vertical-align: top;\n",
       "    }\n",
       "\n",
       "    .dataframe thead th {\n",
       "        text-align: right;\n",
       "    }\n",
       "</style>\n",
       "<table border=\"1\" class=\"dataframe\">\n",
       "  <thead>\n",
       "    <tr style=\"text-align: right;\">\n",
       "      <th></th>\n",
       "      <th>ID</th>\n",
       "      <th>Age</th>\n",
       "      <th>Experience</th>\n",
       "      <th>Income</th>\n",
       "      <th>ZIP Code</th>\n",
       "      <th>Family</th>\n",
       "      <th>CCAvg</th>\n",
       "      <th>Education</th>\n",
       "      <th>Mortgage</th>\n",
       "      <th>Personal Loan</th>\n",
       "      <th>Securities Account</th>\n",
       "      <th>CD Account</th>\n",
       "      <th>Online</th>\n",
       "      <th>CreditCard</th>\n",
       "    </tr>\n",
       "  </thead>\n",
       "  <tbody>\n",
       "    <tr>\n",
       "      <th>0</th>\n",
       "      <td>1</td>\n",
       "      <td>25</td>\n",
       "      <td>1</td>\n",
       "      <td>49</td>\n",
       "      <td>91107</td>\n",
       "      <td>4</td>\n",
       "      <td>1.6</td>\n",
       "      <td>1</td>\n",
       "      <td>0</td>\n",
       "      <td>0</td>\n",
       "      <td>1</td>\n",
       "      <td>0</td>\n",
       "      <td>0</td>\n",
       "      <td>0</td>\n",
       "    </tr>\n",
       "    <tr>\n",
       "      <th>1</th>\n",
       "      <td>2</td>\n",
       "      <td>45</td>\n",
       "      <td>19</td>\n",
       "      <td>34</td>\n",
       "      <td>90089</td>\n",
       "      <td>3</td>\n",
       "      <td>1.5</td>\n",
       "      <td>1</td>\n",
       "      <td>0</td>\n",
       "      <td>0</td>\n",
       "      <td>1</td>\n",
       "      <td>0</td>\n",
       "      <td>0</td>\n",
       "      <td>0</td>\n",
       "    </tr>\n",
       "    <tr>\n",
       "      <th>2</th>\n",
       "      <td>3</td>\n",
       "      <td>39</td>\n",
       "      <td>15</td>\n",
       "      <td>11</td>\n",
       "      <td>94720</td>\n",
       "      <td>1</td>\n",
       "      <td>1.0</td>\n",
       "      <td>1</td>\n",
       "      <td>0</td>\n",
       "      <td>0</td>\n",
       "      <td>0</td>\n",
       "      <td>0</td>\n",
       "      <td>0</td>\n",
       "      <td>0</td>\n",
       "    </tr>\n",
       "    <tr>\n",
       "      <th>3</th>\n",
       "      <td>4</td>\n",
       "      <td>35</td>\n",
       "      <td>9</td>\n",
       "      <td>100</td>\n",
       "      <td>94112</td>\n",
       "      <td>1</td>\n",
       "      <td>2.7</td>\n",
       "      <td>2</td>\n",
       "      <td>0</td>\n",
       "      <td>0</td>\n",
       "      <td>0</td>\n",
       "      <td>0</td>\n",
       "      <td>0</td>\n",
       "      <td>0</td>\n",
       "    </tr>\n",
       "    <tr>\n",
       "      <th>4</th>\n",
       "      <td>5</td>\n",
       "      <td>35</td>\n",
       "      <td>8</td>\n",
       "      <td>45</td>\n",
       "      <td>91330</td>\n",
       "      <td>4</td>\n",
       "      <td>1.0</td>\n",
       "      <td>2</td>\n",
       "      <td>0</td>\n",
       "      <td>0</td>\n",
       "      <td>0</td>\n",
       "      <td>0</td>\n",
       "      <td>0</td>\n",
       "      <td>1</td>\n",
       "    </tr>\n",
       "  </tbody>\n",
       "</table>\n",
       "</div>"
      ],
      "text/plain": [
       "   ID  Age  Experience  Income  ZIP Code  Family  CCAvg  Education  Mortgage  \\\n",
       "0   1   25           1      49     91107       4    1.6          1         0   \n",
       "1   2   45          19      34     90089       3    1.5          1         0   \n",
       "2   3   39          15      11     94720       1    1.0          1         0   \n",
       "3   4   35           9     100     94112       1    2.7          2         0   \n",
       "4   5   35           8      45     91330       4    1.0          2         0   \n",
       "\n",
       "   Personal Loan  Securities Account  CD Account  Online  CreditCard  \n",
       "0              0                   1           0       0           0  \n",
       "1              0                   1           0       0           0  \n",
       "2              0                   0           0       0           0  \n",
       "3              0                   0           0       0           0  \n",
       "4              0                   0           0       0           1  "
      ]
     },
     "execution_count": 36,
     "metadata": {},
     "output_type": "execute_result"
    }
   ],
   "source": [
    "df.head()"
   ]
  },
  {
   "cell_type": "code",
   "execution_count": 37,
   "metadata": {},
   "outputs": [],
   "source": [
    "df=df.drop(columns=['ID', 'ZIP Code'],axis=1)"
   ]
  },
  {
   "cell_type": "code",
   "execution_count": 38,
   "metadata": {},
   "outputs": [],
   "source": [
    "# split into training and validation\n",
    "X = df.drop(columns=['Personal Loan'])\n",
    "y = df['Personal Loan']\n",
    "train_X, valid_X, train_y, valid_y = train_test_split(X, y, test_size=0.40, random_state=3)"
   ]
  },
  {
   "cell_type": "code",
   "execution_count": 39,
   "metadata": {},
   "outputs": [],
   "source": [
    "def eval_tp(actual,propensity,cutoff):\n",
    "    \n",
    "    cm = confusion_matrix(actual,[1 if p > cutoff else 0 for p in propensity]).ravel()\n",
    "    \n",
    "    tn=cm[0]\n",
    "    fp=cm[1]\n",
    "    fn=cm[2]\n",
    "    tp=cm[3]\n",
    "    true_positive_rate = tp / (tp + fn)\n",
    "    sensitivity = true_positive_rate\n",
    "    recall  = true_positive_rate\n",
    "    hit_rate = true_positive_rate\n",
    "    precision= tp / (tp + fp)\n",
    "    positive_predictive_value=precision\n",
    "\n",
    "    roc_auc_scor=roc_auc_score(actual,[1 if p > cutoff else 0 for p in propensity])\n",
    "    \n",
    "    return \"true negative \"+ str(tn), \\\n",
    "           \"false positive \"+str(fp),\\\n",
    "           \"false negative \"+str(fn),\\\n",
    "           \"true positive \"+str(tp),\\\n",
    "           \"true positive rate \"+str(true_positive_rate),\\\n",
    "           \"sensitivity \"+str(sensitivity),\\\n",
    "           \"recall \"+str(recall),\\\n",
    "           \"hit rate \"+str(hit_rate),\\\n",
    "           \"precision \"+str(precision),\\\n",
    "           \"positive predictive value \" + str(positive_predictive_value)\n"
   ]
  },
  {
   "cell_type": "markdown",
   "metadata": {},
   "source": [
    "# Decision Tree"
   ]
  },
  {
   "cell_type": "code",
   "execution_count": 40,
   "metadata": {},
   "outputs": [
    {
     "name": "stdout",
     "output_type": "stream",
     "text": [
      "DecisionTreeClassifier(ccp_alpha=0.0, class_weight=None, criterion='gini',\n",
      "                       max_depth=6, max_features=10, max_leaf_nodes=None,\n",
      "                       min_impurity_decrease=0.0, min_impurity_split=None,\n",
      "                       min_samples_leaf=5, min_samples_split=2,\n",
      "                       min_weight_fraction_leaf=0.0, presort='deprecated',\n",
      "                       random_state=1, splitter='best')\n"
     ]
    },
    {
     "data": {
      "text/plain": [
       "('true negative 1772',\n",
       " 'false positive 21',\n",
       " 'false negative 16',\n",
       " 'true positive 191',\n",
       " 'true positive rate 0.9227053140096618',\n",
       " 'sensitivity 0.9227053140096618',\n",
       " 'recall 0.9227053140096618',\n",
       " 'hit rate 0.9227053140096618',\n",
       " 'precision 0.9009433962264151',\n",
       " 'positive predictive value 0.9009433962264151')"
      ]
     },
     "execution_count": 40,
     "metadata": {},
     "output_type": "execute_result"
    }
   ],
   "source": [
    "\n",
    "clf = DecisionTreeClassifier(random_state=1)\n",
    "\n",
    "param_grid = {\n",
    "    'max_depth': [6],           #list(np.arange(4,8)),    \n",
    "    'min_samples_split': [2],   #list(np.arange(1,4)), \n",
    "    'min_samples_leaf':  [5],   #list(np.arange(4,7)) ,#\n",
    "#    'min_impurity_decrease': list(np.arange(0.0,0.015,0.001)), #\n",
    "    'max_features': [10], #[7,8,9,10,11,12],    #\n",
    "    'random_state': [1]\n",
    "}\n",
    "gridSearch = GridSearchCV(clf, param_grid, cv=5, n_jobs=-1)\n",
    "gridSearch.fit(train_X, train_y)\n",
    "\n",
    "clf = gridSearch.best_estimator_\n",
    "print(clf)                  \n",
    "eval_tp(actual=valid_y,\n",
    "        propensity=pd.DataFrame(clf.predict_proba(valid_X)).iloc[:,1],\n",
    "        cutoff=0.5)\n"
   ]
  },
  {
   "cell_type": "markdown",
   "metadata": {},
   "source": [
    "# Random Forest"
   ]
  },
  {
   "cell_type": "code",
   "execution_count": 41,
   "metadata": {},
   "outputs": [
    {
     "name": "stdout",
     "output_type": "stream",
     "text": [
      "RandomForestClassifier(bootstrap=True, ccp_alpha=0.0, class_weight=None,\n",
      "                       criterion='gini', max_depth=8, max_features=8,\n",
      "                       max_leaf_nodes=None, max_samples=0.7,\n",
      "                       min_impurity_decrease=0.0, min_impurity_split=None,\n",
      "                       min_samples_leaf=1, min_samples_split=3,\n",
      "                       min_weight_fraction_leaf=0.0, n_estimators=100,\n",
      "                       n_jobs=None, oob_score=False, random_state=1, verbose=0,\n",
      "                       warm_start=False)\n"
     ]
    },
    {
     "data": {
      "text/plain": [
       "('true negative 1778',\n",
       " 'false positive 15',\n",
       " 'false negative 21',\n",
       " 'true positive 186',\n",
       " 'true positive rate 0.8985507246376812',\n",
       " 'sensitivity 0.8985507246376812',\n",
       " 'recall 0.8985507246376812',\n",
       " 'hit rate 0.8985507246376812',\n",
       " 'precision 0.9253731343283582',\n",
       " 'positive predictive value 0.9253731343283582')"
      ]
     },
     "execution_count": 41,
     "metadata": {},
     "output_type": "execute_result"
    }
   ],
   "source": [
    "clf = RandomForestClassifier(random_state=1)\n",
    "\n",
    "\n",
    "param_grid = {\n",
    "    'max_depth': [8],#list(np.arange(7,9)),\n",
    "    'min_samples_split': [3],#list(np.arange(1,4)),\n",
    "    'min_samples_leaf': [1],#list(np.arange(1,3)),\n",
    "    'max_samples': [0.7],#list(np.arange(0.6,0.85,0.1)),\n",
    "    'n_estimators': list(np.arange(100,1100,100)),   \n",
    "#    'criterion': ['gini','entropy'],  \n",
    "    'max_features':[8], \n",
    "    'random_state':[1],   \n",
    "    \n",
    "}\n",
    "gridSearch = GridSearchCV(clf, \n",
    "                          param_grid, cv=5, n_jobs=-1,)\n",
    "gridSearch.fit(train_X, train_y)\n",
    "\n",
    "clf = gridSearch.best_estimator_\n",
    "\n",
    "print(clf)\n",
    "\n",
    "eval_tp(actual=valid_y,\n",
    "        propensity=pd.DataFrame(clf.predict_proba(valid_X)).iloc[:,1],\n",
    "        cutoff=0.5)"
   ]
  },
  {
   "cell_type": "markdown",
   "metadata": {},
   "source": [
    "# Gradient Boosting"
   ]
  },
  {
   "cell_type": "code",
   "execution_count": 42,
   "metadata": {},
   "outputs": [
    {
     "name": "stdout",
     "output_type": "stream",
     "text": [
      "GradientBoostingClassifier(ccp_alpha=0.0, criterion='friedman_mse', init=None,\n",
      "                           learning_rate=0.13, loss='deviance', max_depth=6,\n",
      "                           max_features=10, max_leaf_nodes=None,\n",
      "                           min_impurity_decrease=0.0, min_impurity_split=None,\n",
      "                           min_samples_leaf=1, min_samples_split=9,\n",
      "                           min_weight_fraction_leaf=0.0, n_estimators=200,\n",
      "                           n_iter_no_change=None, presort='deprecated',\n",
      "                           random_state=1, subsample=0.75, tol=0.0001,\n",
      "                           validation_fraction=0.1, verbose=0,\n",
      "                           warm_start=False)\n"
     ]
    },
    {
     "data": {
      "text/plain": [
       "('true negative 1782',\n",
       " 'false positive 11',\n",
       " 'false negative 19',\n",
       " 'true positive 188',\n",
       " 'true positive rate 0.9082125603864735',\n",
       " 'sensitivity 0.9082125603864735',\n",
       " 'recall 0.9082125603864735',\n",
       " 'hit rate 0.9082125603864735',\n",
       " 'precision 0.9447236180904522',\n",
       " 'positive predictive value 0.9447236180904522')"
      ]
     },
     "execution_count": 42,
     "metadata": {},
     "output_type": "execute_result"
    }
   ],
   "source": [
    "clf = GradientBoostingClassifier()\n",
    "\n",
    "param_grid = {\n",
    "    'min_samples_split': [9],#list(np.arange(3,11)), \n",
    "    'min_samples_leaf':[1],# list(np.arange(1,2)), \n",
    "    'max_depth': [6],#list(np.arange(4,8)), \n",
    "    'subsample':[0.75],# list(np.arange(0.5,0.8,0.25)), \n",
    "    'max_features':[10],#[9,10,11] , \n",
    "    'learning_rate': [0.13],#list(np.arange(0.08,0.22,0.02)), \n",
    "    'n_estimators': [200] , \n",
    "    'random_state': [1], \n",
    "}\n",
    "\n",
    "gridSearch = GridSearchCV(clf, \n",
    "                          param_grid, cv=5, n_jobs=-1)\n",
    "gridSearch.fit(train_X, train_y)\n",
    "\n",
    "clf = gridSearch.best_estimator_\n",
    "\n",
    "print(clf)\n",
    "\n",
    "eval_tp(actual=valid_y,\n",
    "        propensity=pd.DataFrame(clf.predict_proba(valid_X)).iloc[:,1],\n",
    "        cutoff=0.5)"
   ]
  },
  {
   "cell_type": "markdown",
   "metadata": {},
   "source": [
    "# bagging decision tree"
   ]
  },
  {
   "cell_type": "code",
   "execution_count": 43,
   "metadata": {},
   "outputs": [
    {
     "name": "stdout",
     "output_type": "stream",
     "text": [
      "BaggingClassifier(base_estimator=DecisionTreeClassifier(ccp_alpha=0.0,\n",
      "                                                        class_weight=None,\n",
      "                                                        criterion='gini',\n",
      "                                                        max_depth=6,\n",
      "                                                        max_features=10,\n",
      "                                                        max_leaf_nodes=None,\n",
      "                                                        min_impurity_decrease=0.0,\n",
      "                                                        min_impurity_split=None,\n",
      "                                                        min_samples_leaf=5,\n",
      "                                                        min_samples_split=2,\n",
      "                                                        min_weight_fraction_leaf=0.0,\n",
      "                                                        presort='deprecated',\n",
      "                                                        random_state=1,\n",
      "                                                        splitter='best'),\n",
      "                  bootstrap=True, bootstrap_features=False, max_features=1.0,\n",
      "                  max_samples=1.0, n_estimators=100, n_jobs=None,\n",
      "                  oob_score=False, random_state=1, verbose=0, warm_start=False)\n"
     ]
    },
    {
     "data": {
      "text/plain": [
       "('true negative 1780',\n",
       " 'false positive 13',\n",
       " 'false negative 30',\n",
       " 'true positive 177',\n",
       " 'true positive rate 0.855072463768116',\n",
       " 'sensitivity 0.855072463768116',\n",
       " 'recall 0.855072463768116',\n",
       " 'hit rate 0.855072463768116',\n",
       " 'precision 0.9315789473684211',\n",
       " 'positive predictive value 0.9315789473684211')"
      ]
     },
     "execution_count": 43,
     "metadata": {},
     "output_type": "execute_result"
    }
   ],
   "source": [
    "clf = BaggingClassifier(DecisionTreeClassifier(max_depth=6,min_samples_split=2,\n",
    "                                               min_samples_leaf=5,max_features=10,random_state=1),\n",
    "                        n_estimators=100, random_state=1)\n",
    "\n",
    "param_grid = {}\n",
    "gridSearch = GridSearchCV(clf, \n",
    "                          param_grid, cv=5, n_jobs=-1)\n",
    "gridSearch.fit(train_X, train_y)\n",
    "\n",
    "clf = gridSearch.best_estimator_\n",
    "\n",
    "print(clf)\n",
    "\n",
    "eval_tp(actual=valid_y,\n",
    "        propensity=pd.DataFrame(clf.predict_proba(valid_X)).iloc[:,1],\n",
    "        cutoff=0.5)"
   ]
  },
  {
   "cell_type": "markdown",
   "metadata": {},
   "source": [
    "# bagging random forest"
   ]
  },
  {
   "cell_type": "code",
   "execution_count": 44,
   "metadata": {},
   "outputs": [
    {
     "name": "stdout",
     "output_type": "stream",
     "text": [
      "BaggingClassifier(base_estimator=RandomForestClassifier(bootstrap=True,\n",
      "                                                        ccp_alpha=0.0,\n",
      "                                                        class_weight=None,\n",
      "                                                        criterion='gini',\n",
      "                                                        max_depth=8,\n",
      "                                                        max_features=8,\n",
      "                                                        max_leaf_nodes=None,\n",
      "                                                        max_samples=0.7,\n",
      "                                                        min_impurity_decrease=0.0,\n",
      "                                                        min_impurity_split=None,\n",
      "                                                        min_samples_leaf=1,\n",
      "                                                        min_samples_split=3,\n",
      "                                                        min_weight_fraction_leaf=0.0,\n",
      "                                                        n_estimators=100,\n",
      "                                                        n_jobs=None,\n",
      "                                                        oob_score=False,\n",
      "                                                        random_state=1,\n",
      "                                                        verbose=0,\n",
      "                                                        warm_start=False),\n",
      "                  bootstrap=True, bootstrap_features=False, max_features=1.0,\n",
      "                  max_samples=1.0, n_estimators=100, n_jobs=None,\n",
      "                  oob_score=False, random_state=1, verbose=0, warm_start=False)\n"
     ]
    },
    {
     "data": {
      "text/plain": [
       "('true negative 1780',\n",
       " 'false positive 13',\n",
       " 'false negative 26',\n",
       " 'true positive 181',\n",
       " 'true positive rate 0.8743961352657005',\n",
       " 'sensitivity 0.8743961352657005',\n",
       " 'recall 0.8743961352657005',\n",
       " 'hit rate 0.8743961352657005',\n",
       " 'precision 0.9329896907216495',\n",
       " 'positive predictive value 0.9329896907216495')"
      ]
     },
     "execution_count": 44,
     "metadata": {},
     "output_type": "execute_result"
    }
   ],
   "source": [
    "clf = BaggingClassifier(RandomForestClassifier(max_depth=8,min_samples_split=3,\n",
    "                                               min_samples_leaf=1,max_samples=0.7,\n",
    "                                               max_features=8,random_state=1), n_estimators=100, random_state=1)\n",
    "\n",
    "param_grid = {}\n",
    "gridSearch = GridSearchCV(clf, \n",
    "                          param_grid, cv=5, n_jobs=-1)\n",
    "gridSearch.fit(train_X, train_y)\n",
    "\n",
    "clf = gridSearch.best_estimator_\n",
    "\n",
    "print(clf)\n",
    "\n",
    "eval_tp(actual=valid_y,\n",
    "        propensity=pd.DataFrame(clf.predict_proba(valid_X)).iloc[:,1],\n",
    "        cutoff=0.5)"
   ]
  },
  {
   "cell_type": "markdown",
   "metadata": {},
   "source": [
    "# bagging gradient boosting"
   ]
  },
  {
   "cell_type": "code",
   "execution_count": 45,
   "metadata": {},
   "outputs": [
    {
     "name": "stdout",
     "output_type": "stream",
     "text": [
      "BaggingClassifier(base_estimator=GradientBoostingClassifier(ccp_alpha=0.0,\n",
      "                                                            criterion='friedman_mse',\n",
      "                                                            init=None,\n",
      "                                                            learning_rate=0.13,\n",
      "                                                            loss='deviance',\n",
      "                                                            max_depth=6,\n",
      "                                                            max_features=10,\n",
      "                                                            max_leaf_nodes=None,\n",
      "                                                            min_impurity_decrease=0.0,\n",
      "                                                            min_impurity_split=None,\n",
      "                                                            min_samples_leaf=1,\n",
      "                                                            min_samples_split=9,\n",
      "                                                            min_weight_fraction_leaf=0.0,\n",
      "                                                            n_estimators=2000,\n",
      "                                                            n_iter_no_change=None,\n",
      "                                                            presort='deprecated',\n",
      "                                                            random_state=1,\n",
      "                                                            subsample=0.75,\n",
      "                                                            tol=0.0001,\n",
      "                                                            validation_fraction=0.1,\n",
      "                                                            verbose=0,\n",
      "                                                            warm_start=False),\n",
      "                  bootstrap=True, bootstrap_features=False, max_features=1.0,\n",
      "                  max_samples=1.0, n_estimators=10, n_jobs=None,\n",
      "                  oob_score=False, random_state=1, verbose=0, warm_start=False)\n"
     ]
    },
    {
     "data": {
      "text/plain": [
       "('true negative 1780',\n",
       " 'false positive 13',\n",
       " 'false negative 19',\n",
       " 'true positive 188',\n",
       " 'true positive rate 0.9082125603864735',\n",
       " 'sensitivity 0.9082125603864735',\n",
       " 'recall 0.9082125603864735',\n",
       " 'hit rate 0.9082125603864735',\n",
       " 'precision 0.9353233830845771',\n",
       " 'positive predictive value 0.9353233830845771')"
      ]
     },
     "execution_count": 45,
     "metadata": {},
     "output_type": "execute_result"
    }
   ],
   "source": [
    "clf = BaggingClassifier(GradientBoostingClassifier(min_samples_split=9,min_samples_leaf=1,\n",
    "                                                   max_depth=6,subsample=0.75,max_features=10,\n",
    "                                                   learning_rate=0.13,random_state=1,n_estimators=2000), random_state=1)\n",
    "\n",
    "param_grid = {}\n",
    "gridSearch = GridSearchCV(clf, \n",
    "                          param_grid, cv=5, n_jobs=-1)\n",
    "gridSearch.fit(train_X, train_y)\n",
    "\n",
    "clf = gridSearch.best_estimator_\n",
    "\n",
    "print(clf)\n",
    "\n",
    "eval_tp(actual=valid_y,\n",
    "        propensity=pd.DataFrame(clf.predict_proba(valid_X)).iloc[:,1],\n",
    "        cutoff=0.5)"
   ]
  },
  {
   "cell_type": "markdown",
   "metadata": {},
   "source": [
    "# adaboost decision tree"
   ]
  },
  {
   "cell_type": "code",
   "execution_count": 46,
   "metadata": {},
   "outputs": [
    {
     "name": "stdout",
     "output_type": "stream",
     "text": [
      "AdaBoostClassifier(algorithm='SAMME.R',\n",
      "                   base_estimator=DecisionTreeClassifier(ccp_alpha=0.0,\n",
      "                                                         class_weight=None,\n",
      "                                                         criterion='gini',\n",
      "                                                         max_depth=6,\n",
      "                                                         max_features=10,\n",
      "                                                         max_leaf_nodes=None,\n",
      "                                                         min_impurity_decrease=0.0,\n",
      "                                                         min_impurity_split=None,\n",
      "                                                         min_samples_leaf=5,\n",
      "                                                         min_samples_split=2,\n",
      "                                                         min_weight_fraction_leaf=0.0,\n",
      "                                                         presort='deprecated',\n",
      "                                                         random_state=1,\n",
      "                                                         splitter='best'),\n",
      "                   learning_rate=1.0, n_estimators=100, random_state=1)\n"
     ]
    },
    {
     "data": {
      "text/plain": [
       "('true negative 1789',\n",
       " 'false positive 4',\n",
       " 'false negative 22',\n",
       " 'true positive 185',\n",
       " 'true positive rate 0.893719806763285',\n",
       " 'sensitivity 0.893719806763285',\n",
       " 'recall 0.893719806763285',\n",
       " 'hit rate 0.893719806763285',\n",
       " 'precision 0.9788359788359788',\n",
       " 'positive predictive value 0.9788359788359788')"
      ]
     },
     "execution_count": 46,
     "metadata": {},
     "output_type": "execute_result"
    }
   ],
   "source": [
    "clf = AdaBoostClassifier(DecisionTreeClassifier(max_depth=6,min_samples_split=2,\n",
    "                                               min_samples_leaf=5,max_features=10,random_state=1), \n",
    "                         n_estimators=100, random_state=1)\n",
    "\n",
    "param_grid = {}\n",
    "gridSearch = GridSearchCV(clf, \n",
    "                          param_grid, cv=5, n_jobs=-1)\n",
    "gridSearch.fit(train_X, train_y)\n",
    "\n",
    "clf = gridSearch.best_estimator_\n",
    "\n",
    "print(clf)\n",
    "                        \n",
    "eval_tp(actual=valid_y,\n",
    "        propensity=pd.DataFrame(clf.predict_proba(valid_X)).iloc[:,1],\n",
    "        cutoff=0.5)"
   ]
  },
  {
   "cell_type": "markdown",
   "metadata": {},
   "source": [
    "# adaboost random forest"
   ]
  },
  {
   "cell_type": "code",
   "execution_count": 47,
   "metadata": {},
   "outputs": [
    {
     "name": "stdout",
     "output_type": "stream",
     "text": [
      "AdaBoostClassifier(algorithm='SAMME.R',\n",
      "                   base_estimator=RandomForestClassifier(bootstrap=True,\n",
      "                                                         ccp_alpha=0.0,\n",
      "                                                         class_weight=None,\n",
      "                                                         criterion='gini',\n",
      "                                                         max_depth=8,\n",
      "                                                         max_features=8,\n",
      "                                                         max_leaf_nodes=None,\n",
      "                                                         max_samples=0.7,\n",
      "                                                         min_impurity_decrease=0.0,\n",
      "                                                         min_impurity_split=None,\n",
      "                                                         min_samples_leaf=1,\n",
      "                                                         min_samples_split=3,\n",
      "                                                         min_weight_fraction_leaf=0.0,\n",
      "                                                         n_estimators=100,\n",
      "                                                         n_jobs=None,\n",
      "                                                         oob_score=False,\n",
      "                                                         random_state=1,\n",
      "                                                         verbose=0,\n",
      "                                                         warm_start=False),\n",
      "                   learning_rate=1.0, n_estimators=100, random_state=1)\n"
     ]
    },
    {
     "data": {
      "text/plain": [
       "('true negative 1789',\n",
       " 'false positive 4',\n",
       " 'false negative 26',\n",
       " 'true positive 181',\n",
       " 'true positive rate 0.8743961352657005',\n",
       " 'sensitivity 0.8743961352657005',\n",
       " 'recall 0.8743961352657005',\n",
       " 'hit rate 0.8743961352657005',\n",
       " 'precision 0.9783783783783784',\n",
       " 'positive predictive value 0.9783783783783784')"
      ]
     },
     "execution_count": 47,
     "metadata": {},
     "output_type": "execute_result"
    }
   ],
   "source": [
    "clf = AdaBoostClassifier(RandomForestClassifier(max_depth=8,min_samples_split=3,\n",
    "                                                min_samples_leaf=1,max_samples=0.7,\n",
    "                                                max_features=8,random_state=1), n_estimators=100, random_state=1)\n",
    "\n",
    "param_grid = {}\n",
    "gridSearch = GridSearchCV(clf, \n",
    "                          param_grid, cv=5, n_jobs=-1)\n",
    "gridSearch.fit(train_X, train_y)\n",
    "\n",
    "clf = gridSearch.best_estimator_\n",
    "\n",
    "print(clf)\n",
    "                        \n",
    "eval_tp(actual=valid_y,\n",
    "        propensity=pd.DataFrame(clf.predict_proba(valid_X)).iloc[:,1],\n",
    "        cutoff=0.5)"
   ]
  },
  {
   "cell_type": "markdown",
   "metadata": {},
   "source": [
    "# adaboost gradient boosting"
   ]
  },
  {
   "cell_type": "code",
   "execution_count": 48,
   "metadata": {},
   "outputs": [
    {
     "name": "stdout",
     "output_type": "stream",
     "text": [
      "AdaBoostClassifier(algorithm='SAMME.R',\n",
      "                   base_estimator=GradientBoostingClassifier(ccp_alpha=0.0,\n",
      "                                                             criterion='friedman_mse',\n",
      "                                                             init=None,\n",
      "                                                             learning_rate=0.13,\n",
      "                                                             loss='deviance',\n",
      "                                                             max_depth=6,\n",
      "                                                             max_features=10,\n",
      "                                                             max_leaf_nodes=None,\n",
      "                                                             min_impurity_decrease=0.0,\n",
      "                                                             min_impurity_split=None,\n",
      "                                                             min_samples_leaf=1,\n",
      "                                                             min_samples_split=9,\n",
      "                                                             min_weight_fraction_leaf=0.0,\n",
      "                                                             n_estimators=100,\n",
      "                                                             n_iter_no_change=None,\n",
      "                                                             presort='deprecated',\n",
      "                                                             random_state=1,\n",
      "                                                             subsample=0.75,\n",
      "                                                             tol=0.0001,\n",
      "                                                             validation_fraction=0.1,\n",
      "                                                             verbose=0,\n",
      "                                                             warm_start=False),\n",
      "                   learning_rate=1.0, n_estimators=2000, random_state=1)\n"
     ]
    },
    {
     "data": {
      "text/plain": [
       "('true negative 1782',\n",
       " 'false positive 11',\n",
       " 'false negative 16',\n",
       " 'true positive 191',\n",
       " 'true positive rate 0.9227053140096618',\n",
       " 'sensitivity 0.9227053140096618',\n",
       " 'recall 0.9227053140096618',\n",
       " 'hit rate 0.9227053140096618',\n",
       " 'precision 0.9455445544554455',\n",
       " 'positive predictive value 0.9455445544554455')"
      ]
     },
     "execution_count": 48,
     "metadata": {},
     "output_type": "execute_result"
    }
   ],
   "source": [
    "clf = AdaBoostClassifier(GradientBoostingClassifier(min_samples_split=9,min_samples_leaf=1,\n",
    "                                                    max_depth=6,subsample=0.75,max_features=10,\n",
    "                                                    learning_rate=0.13,random_state=1), \n",
    "                         n_estimators=2000, random_state=1)\n",
    "\n",
    "param_grid = {}\n",
    "gridSearch = GridSearchCV(clf, \n",
    "                          param_grid, cv=5, n_jobs=-1)\n",
    "gridSearch.fit(train_X, train_y)\n",
    "\n",
    "clf = gridSearch.best_estimator_\n",
    "\n",
    "print(clf)\n",
    "                        \n",
    "eval_tp(actual=valid_y,\n",
    "        propensity=pd.DataFrame(clf.predict_proba(valid_X)).iloc[:,1],\n",
    "        cutoff=0.5)"
   ]
  },
  {
   "cell_type": "markdown",
   "metadata": {},
   "source": [
    "# Voting Ensemble - hard"
   ]
  },
  {
   "cell_type": "code",
   "execution_count": 49,
   "metadata": {},
   "outputs": [
    {
     "name": "stdout",
     "output_type": "stream",
     "text": [
      "VotingClassifier(estimators=[('dt',\n",
      "                              DecisionTreeClassifier(ccp_alpha=0.0,\n",
      "                                                     class_weight=None,\n",
      "                                                     criterion='gini',\n",
      "                                                     max_depth=6,\n",
      "                                                     max_features=10,\n",
      "                                                     max_leaf_nodes=None,\n",
      "                                                     min_impurity_decrease=0.0,\n",
      "                                                     min_impurity_split=None,\n",
      "                                                     min_samples_leaf=5,\n",
      "                                                     min_samples_split=2,\n",
      "                                                     min_weight_fraction_leaf=0.0,\n",
      "                                                     presort='deprecated',\n",
      "                                                     random_state=1,\n",
      "                                                     splitter='best')),\n",
      "                             ('rf',\n",
      "                              RandomForestClass...\n",
      "                                                                                           min_impurity_split=None,\n",
      "                                                                                           min_samples_leaf=1,\n",
      "                                                                                           min_samples_split=9,\n",
      "                                                                                           min_weight_fraction_leaf=0.0,\n",
      "                                                                                           n_estimators=100,\n",
      "                                                                                           n_iter_no_change=None,\n",
      "                                                                                           presort='deprecated',\n",
      "                                                                                           random_state=1,\n",
      "                                                                                           subsample=0.75,\n",
      "                                                                                           tol=0.0001,\n",
      "                                                                                           validation_fraction=0.1,\n",
      "                                                                                           verbose=0,\n",
      "                                                                                           warm_start=False),\n",
      "                                                 learning_rate=1.0,\n",
      "                                                 n_estimators=2000,\n",
      "                                                 random_state=1))],\n",
      "                 flatten_transform=True, n_jobs=-1, voting='hard',\n",
      "                 weights=None)\n",
      "[1782   11   17  190]\n"
     ]
    },
    {
     "data": {
      "text/plain": [
       "0.9178743961352657"
      ]
     },
     "execution_count": 49,
     "metadata": {},
     "output_type": "execute_result"
    }
   ],
   "source": [
    "dt = DecisionTreeClassifier(max_depth=6,min_samples_split=2,min_samples_leaf=5,max_features=10,random_state=1)\n",
    "\n",
    "rf = RandomForestClassifier(max_depth=8,min_samples_split=3,\n",
    "                            min_samples_leaf=1,max_samples=0.7,max_features=8,random_state=1,)\n",
    "\n",
    "gb = GradientBoostingClassifier(min_samples_split=9,n_estimators=2000,\n",
    "                                min_samples_leaf=1,max_depth=6,subsample=0.75,\n",
    "                                max_features=10,learning_rate=0.13,random_state=1)\n",
    "\n",
    "ada_gb=AdaBoostClassifier(GradientBoostingClassifier(min_samples_split=9,min_samples_leaf=1,\n",
    "                                                    max_depth=6,subsample=0.75,max_features=10,\n",
    "                                                    learning_rate=0.13,random_state=1), \n",
    "                         n_estimators=2000, random_state=1)\n",
    "\n",
    "logit = LogisticRegression(penalty=\"l2\", C=1e12, solver='lbfgs',n_jobs=-1)\n",
    "\n",
    "clf = VotingClassifier([('dt',dt),\n",
    "                        ('rf',rf),\n",
    "                        ('gb',gb),\n",
    "#                        ('logit',logit)\n",
    "                        ('ada_gb',ada_gb)],\n",
    "                       voting='hard',  n_jobs=-1)\n",
    "clf.fit(train_X, train_y)\n",
    "\n",
    "print(clf)\n",
    "\n",
    "cm = confusion_matrix(valid_y,clf.predict(valid_X)).ravel()\n",
    "print(cm)\n",
    "\n",
    "tn=cm[0]\n",
    "fp=cm[1]\n",
    "fn=cm[2]\n",
    "tp=cm[3]\n",
    "true_positive_rate = tp / (tp + fn)\n",
    "true_positive_rate "
   ]
  },
  {
   "cell_type": "markdown",
   "metadata": {},
   "source": [
    "# Voting Ensemble - soft"
   ]
  },
  {
   "cell_type": "code",
   "execution_count": 50,
   "metadata": {},
   "outputs": [
    {
     "name": "stdout",
     "output_type": "stream",
     "text": [
      "VotingClassifier(estimators=[('dt',\n",
      "                              DecisionTreeClassifier(ccp_alpha=0.0,\n",
      "                                                     class_weight=None,\n",
      "                                                     criterion='gini',\n",
      "                                                     max_depth=6,\n",
      "                                                     max_features=10,\n",
      "                                                     max_leaf_nodes=None,\n",
      "                                                     min_impurity_decrease=0.0,\n",
      "                                                     min_impurity_split=None,\n",
      "                                                     min_samples_leaf=5,\n",
      "                                                     min_samples_split=2,\n",
      "                                                     min_weight_fraction_leaf=0.0,\n",
      "                                                     presort='deprecated',\n",
      "                                                     random_state=1,\n",
      "                                                     splitter='best')),\n",
      "                             ('rf',\n",
      "                              RandomForestClass...\n",
      "                                                                                           min_impurity_split=None,\n",
      "                                                                                           min_samples_leaf=1,\n",
      "                                                                                           min_samples_split=9,\n",
      "                                                                                           min_weight_fraction_leaf=0.0,\n",
      "                                                                                           n_estimators=100,\n",
      "                                                                                           n_iter_no_change=None,\n",
      "                                                                                           presort='deprecated',\n",
      "                                                                                           random_state=1,\n",
      "                                                                                           subsample=0.75,\n",
      "                                                                                           tol=0.0001,\n",
      "                                                                                           validation_fraction=0.1,\n",
      "                                                                                           verbose=0,\n",
      "                                                                                           warm_start=False),\n",
      "                                                 learning_rate=1.0,\n",
      "                                                 n_estimators=100,\n",
      "                                                 random_state=1))],\n",
      "                 flatten_transform=True, n_jobs=-1, voting='soft',\n",
      "                 weights=None)\n",
      "[1782   11   17  190]\n"
     ]
    },
    {
     "data": {
      "text/plain": [
       "0.9178743961352657"
      ]
     },
     "execution_count": 50,
     "metadata": {},
     "output_type": "execute_result"
    }
   ],
   "source": [
    "dt = DecisionTreeClassifier(max_depth=6,min_samples_split=2,min_samples_leaf=5,max_features=10,random_state=1)\n",
    "\n",
    "rf = RandomForestClassifier(max_depth=8,min_samples_split=3,\n",
    "                            min_samples_leaf=1,max_samples=0.7,max_features=8,random_state=1,)\n",
    "\n",
    "gb = GradientBoostingClassifier(min_samples_split=9,\n",
    "                                min_samples_leaf=1,max_depth=6,subsample=0.75,\n",
    "                                max_features=10,learning_rate=0.13,random_state=1)\n",
    "\n",
    "ada_gb=AdaBoostClassifier(GradientBoostingClassifier(min_samples_split=9,min_samples_leaf=1,\n",
    "                                                    max_depth=6,subsample=0.75,max_features=10,\n",
    "                                                    learning_rate=0.13,random_state=1), \n",
    "                         n_estimators=100, random_state=1)\n",
    "\n",
    "logit = LogisticRegression(penalty=\"l2\", C=1e12, solver='lbfgs',n_jobs=-1)\n",
    "\n",
    "clf = VotingClassifier([('dt',dt),\n",
    "                        ('rf',rf),\n",
    "                        ('gb',gb),\n",
    "#                        ('logit',logit)\n",
    "                        ('ada_gb',ada_gb)],\n",
    "                       voting='soft',  n_jobs=-1)\n",
    "clf.fit(train_X, train_y)\n",
    "\n",
    "print(clf)\n",
    "\n",
    "cm = confusion_matrix(valid_y,clf.predict(valid_X)).ravel()\n",
    "print(cm)\n",
    "\n",
    "tn=cm[0]\n",
    "fp=cm[1]\n",
    "fn=cm[2]\n",
    "tp=cm[3]\n",
    "true_positive_rate = tp / (tp + fn)\n",
    "true_positive_rate "
   ]
  },
  {
   "cell_type": "code",
   "execution_count": null,
   "metadata": {},
   "outputs": [],
   "source": []
  }
 ],
 "metadata": {
  "kernelspec": {
   "display_name": "Python 3",
   "language": "python",
   "name": "python3"
  },
  "language_info": {
   "codemirror_mode": {
    "name": "ipython",
    "version": 3
   },
   "file_extension": ".py",
   "mimetype": "text/x-python",
   "name": "python",
   "nbconvert_exporter": "python",
   "pygments_lexer": "ipython3",
   "version": "3.7.4"
  }
 },
 "nbformat": 4,
 "nbformat_minor": 4
}
