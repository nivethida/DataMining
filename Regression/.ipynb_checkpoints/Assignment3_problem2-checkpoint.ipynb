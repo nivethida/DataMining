{
 "cells": [
  {
   "cell_type": "code",
   "execution_count": 93,
   "metadata": {},
   "outputs": [],
   "source": [
    "import pandas as pd\n",
    "import numpy as np\n",
    "import matplotlib.pyplot as plt\n",
    "import math\n",
    "\n",
    "from sklearn.model_selection import train_test_split\n",
    "from sklearn.linear_model import LinearRegression, Lasso, Ridge,RidgeCV, LassoCV, BayesianRidge,ElasticNet,ElasticNetCV\n",
    "\n",
    "import itertools \n",
    "\n",
    "from sklearn.metrics import mean_absolute_error \n",
    "from sklearn.metrics import mean_squared_error \n",
    "from sklearn import preprocessing"
   ]
  },
  {
   "cell_type": "code",
   "execution_count": 94,
   "metadata": {},
   "outputs": [
    {
     "name": "stdout",
     "output_type": "stream",
     "text": [
      "<class 'pandas.core.frame.DataFrame'>\n",
      "RangeIndex: 1436 entries, 0 to 1435\n",
      "Data columns (total 39 columns):\n",
      "Id                   1436 non-null int64\n",
      "Model                1436 non-null object\n",
      "Price                1436 non-null int64\n",
      "Age_08_04            1436 non-null int64\n",
      "Mfg_Month            1436 non-null int64\n",
      "Mfg_Year             1436 non-null int64\n",
      "KM                   1436 non-null int64\n",
      "Fuel_Type            1436 non-null object\n",
      "HP                   1436 non-null int64\n",
      "Met_Color            1436 non-null int64\n",
      "Color                1436 non-null object\n",
      "Automatic            1436 non-null int64\n",
      "CC                   1436 non-null int64\n",
      "Doors                1436 non-null int64\n",
      "Cylinders            1436 non-null int64\n",
      "Gears                1436 non-null int64\n",
      "Quarterly_Tax        1436 non-null int64\n",
      "Weight               1436 non-null int64\n",
      "Mfr_Guarantee        1436 non-null int64\n",
      "BOVAG_Guarantee      1436 non-null int64\n",
      "Guarantee_Period     1436 non-null int64\n",
      "ABS                  1436 non-null int64\n",
      "Airbag_1             1436 non-null int64\n",
      "Airbag_2             1436 non-null int64\n",
      "Airco                1436 non-null int64\n",
      "Automatic_airco      1436 non-null int64\n",
      "Boardcomputer        1436 non-null int64\n",
      "CD_Player            1436 non-null int64\n",
      "Central_Lock         1436 non-null int64\n",
      "Powered_Windows      1436 non-null int64\n",
      "Power_Steering       1436 non-null int64\n",
      "Radio                1436 non-null int64\n",
      "Mistlamps            1436 non-null int64\n",
      "Sport_Model          1436 non-null int64\n",
      "Backseat_Divider     1436 non-null int64\n",
      "Metallic_Rim         1436 non-null int64\n",
      "Radio_cassette       1436 non-null int64\n",
      "Parking_Assistant    1436 non-null int64\n",
      "Tow_Bar              1436 non-null int64\n",
      "dtypes: int64(36), object(3)\n",
      "memory usage: 437.7+ KB\n"
     ]
    }
   ],
   "source": [
    "data = pd.read_csv('/Users/nivethida/Downloads/ToyotaCorolla(1).csv')\n",
    "data.info()\n",
    "#Few objects are in the data Model, Fuel_Type, Color "
   ]
  },
  {
   "cell_type": "code",
   "execution_count": 95,
   "metadata": {},
   "outputs": [
    {
     "data": {
      "text/plain": [
       "Petrol    1264\n",
       "Diesel     155\n",
       "CNG         17\n",
       "Name: Fuel_Type, dtype: int64"
      ]
     },
     "execution_count": 95,
     "metadata": {},
     "output_type": "execute_result"
    }
   ],
   "source": [
    "data['Fuel_Type'].value_counts()"
   ]
  },
  {
   "cell_type": "code",
   "execution_count": 96,
   "metadata": {},
   "outputs": [
    {
     "name": "stdout",
     "output_type": "stream",
     "text": [
      "<class 'pandas.core.frame.DataFrame'>\n",
      "RangeIndex: 1436 entries, 0 to 1435\n",
      "Data columns (total 39 columns):\n",
      "Id                   1436 non-null int64\n",
      "Price                1436 non-null int64\n",
      "Age_08_04            1436 non-null int64\n",
      "Mfg_Month            1436 non-null int64\n",
      "Mfg_Year             1436 non-null int64\n",
      "KM                   1436 non-null int64\n",
      "HP                   1436 non-null int64\n",
      "Met_Color            1436 non-null int64\n",
      "Automatic            1436 non-null int64\n",
      "CC                   1436 non-null int64\n",
      "Doors                1436 non-null int64\n",
      "Cylinders            1436 non-null int64\n",
      "Gears                1436 non-null int64\n",
      "Quarterly_Tax        1436 non-null int64\n",
      "Weight               1436 non-null int64\n",
      "Mfr_Guarantee        1436 non-null int64\n",
      "BOVAG_Guarantee      1436 non-null int64\n",
      "Guarantee_Period     1436 non-null int64\n",
      "ABS                  1436 non-null int64\n",
      "Airbag_1             1436 non-null int64\n",
      "Airbag_2             1436 non-null int64\n",
      "Airco                1436 non-null int64\n",
      "Automatic_airco      1436 non-null int64\n",
      "Boardcomputer        1436 non-null int64\n",
      "CD_Player            1436 non-null int64\n",
      "Central_Lock         1436 non-null int64\n",
      "Powered_Windows      1436 non-null int64\n",
      "Power_Steering       1436 non-null int64\n",
      "Radio                1436 non-null int64\n",
      "Mistlamps            1436 non-null int64\n",
      "Sport_Model          1436 non-null int64\n",
      "Backseat_Divider     1436 non-null int64\n",
      "Metallic_Rim         1436 non-null int64\n",
      "Radio_cassette       1436 non-null int64\n",
      "Parking_Assistant    1436 non-null int64\n",
      "Tow_Bar              1436 non-null int64\n",
      "CNG                  1436 non-null uint8\n",
      "Diesel               1436 non-null uint8\n",
      "Petrol               1436 non-null uint8\n",
      "dtypes: int64(36), uint8(3)\n",
      "memory usage: 408.2 KB\n"
     ]
    }
   ],
   "source": [
    "# Setting up dummy colums for Object\n",
    "data=pd.concat([data,pd.get_dummies(data['Fuel_Type'], prefix_sep='_',)],axis=1)\n",
    "\n",
    "# Dropping the Object columns\n",
    "data = data.drop(list(['Fuel_Type']), axis = 1)\n",
    "data = data.drop(list(['Model']), axis = 1)\n",
    "data = data.drop(list(['Color']), axis = 1)\n",
    "\n",
    "data.info()\n"
   ]
  },
  {
   "cell_type": "markdown",
   "metadata": {},
   "source": [
    "Now we have cleaned up the data.\n",
    "data.to_csv('/Users/nivethida/Downloads/ToyotaCorollaUpdated.csv', index = False)"
   ]
  },
  {
   "cell_type": "code",
   "execution_count": 97,
   "metadata": {},
   "outputs": [
    {
     "name": "stdout",
     "output_type": "stream",
     "text": [
      "Training :  (718, 16)\n",
      "Validation :  (430, 16)\n",
      "Test :  (288, 16)\n"
     ]
    }
   ],
   "source": [
    "#Predictors according to question.\n",
    "predictors=['Age_08_04', 'KM', 'Petrol', 'Diesel', 'HP', 'Automatic', 'Doors', 'Quarterly_Tax', 'Mfr_Guarantee', 'Guarantee_Period', \n",
    "   'Airco', 'Automatic_airco', 'CD_Player', 'Powered_Windows', 'Sport_Model', 'Tow_Bar']\n",
    "\n",
    "# Response variable\n",
    "y = data['Price'] \n",
    "\n",
    "# partition the data into training(50%), validation (30%) and test(20%) sets\n",
    "train_X, temp_X, train_y, temp_y = train_test_split(data[predictors], y, test_size=0.5, random_state=1)\n",
    "valid_X, test_X, valid_y, test_y = train_test_split(temp_X, temp_y, test_size=0.4, random_state=1)\n",
    "\n",
    "print('Training : ', train_X.shape)\n",
    "print('Validation : ', valid_X.shape)\n",
    "print('Test : ', test_X.shape)"
   ]
  },
  {
   "cell_type": "code",
   "execution_count": 98,
   "metadata": {},
   "outputs": [
    {
     "data": {
      "text/html": [
       "<div>\n",
       "<style scoped>\n",
       "    .dataframe tbody tr th:only-of-type {\n",
       "        vertical-align: middle;\n",
       "    }\n",
       "\n",
       "    .dataframe tbody tr th {\n",
       "        vertical-align: top;\n",
       "    }\n",
       "\n",
       "    .dataframe thead th {\n",
       "        text-align: right;\n",
       "    }\n",
       "</style>\n",
       "<table border=\"1\" class=\"dataframe\">\n",
       "  <thead>\n",
       "    <tr style=\"text-align: right;\">\n",
       "      <th></th>\n",
       "      <th>Age_08_04</th>\n",
       "      <th>KM</th>\n",
       "      <th>Petrol</th>\n",
       "      <th>Diesel</th>\n",
       "      <th>HP</th>\n",
       "      <th>Automatic</th>\n",
       "      <th>Doors</th>\n",
       "      <th>Quarterly_Tax</th>\n",
       "      <th>Mfr_Guarantee</th>\n",
       "      <th>Guarantee_Period</th>\n",
       "      <th>Airco</th>\n",
       "      <th>Automatic_airco</th>\n",
       "      <th>CD_Player</th>\n",
       "      <th>Powered_Windows</th>\n",
       "      <th>Sport_Model</th>\n",
       "      <th>Tow_Bar</th>\n",
       "    </tr>\n",
       "  </thead>\n",
       "  <tbody>\n",
       "    <tr>\n",
       "      <td>780</td>\n",
       "      <td>61</td>\n",
       "      <td>76700</td>\n",
       "      <td>1</td>\n",
       "      <td>0</td>\n",
       "      <td>86</td>\n",
       "      <td>0</td>\n",
       "      <td>5</td>\n",
       "      <td>69</td>\n",
       "      <td>0</td>\n",
       "      <td>3</td>\n",
       "      <td>0</td>\n",
       "      <td>0</td>\n",
       "      <td>0</td>\n",
       "      <td>0</td>\n",
       "      <td>1</td>\n",
       "      <td>0</td>\n",
       "    </tr>\n",
       "    <tr>\n",
       "      <td>1010</td>\n",
       "      <td>60</td>\n",
       "      <td>36943</td>\n",
       "      <td>1</td>\n",
       "      <td>0</td>\n",
       "      <td>110</td>\n",
       "      <td>0</td>\n",
       "      <td>5</td>\n",
       "      <td>85</td>\n",
       "      <td>1</td>\n",
       "      <td>3</td>\n",
       "      <td>0</td>\n",
       "      <td>0</td>\n",
       "      <td>0</td>\n",
       "      <td>0</td>\n",
       "      <td>1</td>\n",
       "      <td>1</td>\n",
       "    </tr>\n",
       "    <tr>\n",
       "      <td>1426</td>\n",
       "      <td>78</td>\n",
       "      <td>30964</td>\n",
       "      <td>1</td>\n",
       "      <td>0</td>\n",
       "      <td>110</td>\n",
       "      <td>1</td>\n",
       "      <td>3</td>\n",
       "      <td>85</td>\n",
       "      <td>1</td>\n",
       "      <td>12</td>\n",
       "      <td>1</td>\n",
       "      <td>0</td>\n",
       "      <td>0</td>\n",
       "      <td>0</td>\n",
       "      <td>0</td>\n",
       "      <td>1</td>\n",
       "    </tr>\n",
       "    <tr>\n",
       "      <td>1405</td>\n",
       "      <td>76</td>\n",
       "      <td>45410</td>\n",
       "      <td>1</td>\n",
       "      <td>0</td>\n",
       "      <td>86</td>\n",
       "      <td>0</td>\n",
       "      <td>5</td>\n",
       "      <td>69</td>\n",
       "      <td>1</td>\n",
       "      <td>3</td>\n",
       "      <td>0</td>\n",
       "      <td>0</td>\n",
       "      <td>0</td>\n",
       "      <td>0</td>\n",
       "      <td>0</td>\n",
       "      <td>0</td>\n",
       "    </tr>\n",
       "    <tr>\n",
       "      <td>1282</td>\n",
       "      <td>80</td>\n",
       "      <td>73200</td>\n",
       "      <td>1</td>\n",
       "      <td>0</td>\n",
       "      <td>110</td>\n",
       "      <td>0</td>\n",
       "      <td>5</td>\n",
       "      <td>85</td>\n",
       "      <td>0</td>\n",
       "      <td>3</td>\n",
       "      <td>0</td>\n",
       "      <td>0</td>\n",
       "      <td>0</td>\n",
       "      <td>1</td>\n",
       "      <td>1</td>\n",
       "      <td>0</td>\n",
       "    </tr>\n",
       "    <tr>\n",
       "      <td>...</td>\n",
       "      <td>...</td>\n",
       "      <td>...</td>\n",
       "      <td>...</td>\n",
       "      <td>...</td>\n",
       "      <td>...</td>\n",
       "      <td>...</td>\n",
       "      <td>...</td>\n",
       "      <td>...</td>\n",
       "      <td>...</td>\n",
       "      <td>...</td>\n",
       "      <td>...</td>\n",
       "      <td>...</td>\n",
       "      <td>...</td>\n",
       "      <td>...</td>\n",
       "      <td>...</td>\n",
       "      <td>...</td>\n",
       "    </tr>\n",
       "    <tr>\n",
       "      <td>715</td>\n",
       "      <td>62</td>\n",
       "      <td>90000</td>\n",
       "      <td>1</td>\n",
       "      <td>0</td>\n",
       "      <td>110</td>\n",
       "      <td>0</td>\n",
       "      <td>3</td>\n",
       "      <td>69</td>\n",
       "      <td>0</td>\n",
       "      <td>3</td>\n",
       "      <td>0</td>\n",
       "      <td>0</td>\n",
       "      <td>0</td>\n",
       "      <td>0</td>\n",
       "      <td>1</td>\n",
       "      <td>0</td>\n",
       "    </tr>\n",
       "    <tr>\n",
       "      <td>905</td>\n",
       "      <td>65</td>\n",
       "      <td>59000</td>\n",
       "      <td>1</td>\n",
       "      <td>0</td>\n",
       "      <td>110</td>\n",
       "      <td>0</td>\n",
       "      <td>3</td>\n",
       "      <td>69</td>\n",
       "      <td>0</td>\n",
       "      <td>3</td>\n",
       "      <td>0</td>\n",
       "      <td>0</td>\n",
       "      <td>0</td>\n",
       "      <td>0</td>\n",
       "      <td>0</td>\n",
       "      <td>0</td>\n",
       "    </tr>\n",
       "    <tr>\n",
       "      <td>1096</td>\n",
       "      <td>75</td>\n",
       "      <td>125400</td>\n",
       "      <td>1</td>\n",
       "      <td>0</td>\n",
       "      <td>110</td>\n",
       "      <td>0</td>\n",
       "      <td>3</td>\n",
       "      <td>69</td>\n",
       "      <td>0</td>\n",
       "      <td>6</td>\n",
       "      <td>0</td>\n",
       "      <td>0</td>\n",
       "      <td>0</td>\n",
       "      <td>1</td>\n",
       "      <td>0</td>\n",
       "      <td>0</td>\n",
       "    </tr>\n",
       "    <tr>\n",
       "      <td>235</td>\n",
       "      <td>38</td>\n",
       "      <td>60829</td>\n",
       "      <td>1</td>\n",
       "      <td>0</td>\n",
       "      <td>110</td>\n",
       "      <td>0</td>\n",
       "      <td>5</td>\n",
       "      <td>85</td>\n",
       "      <td>1</td>\n",
       "      <td>3</td>\n",
       "      <td>0</td>\n",
       "      <td>0</td>\n",
       "      <td>0</td>\n",
       "      <td>0</td>\n",
       "      <td>0</td>\n",
       "      <td>0</td>\n",
       "    </tr>\n",
       "    <tr>\n",
       "      <td>1061</td>\n",
       "      <td>78</td>\n",
       "      <td>161775</td>\n",
       "      <td>1</td>\n",
       "      <td>0</td>\n",
       "      <td>86</td>\n",
       "      <td>0</td>\n",
       "      <td>3</td>\n",
       "      <td>69</td>\n",
       "      <td>0</td>\n",
       "      <td>3</td>\n",
       "      <td>0</td>\n",
       "      <td>0</td>\n",
       "      <td>0</td>\n",
       "      <td>1</td>\n",
       "      <td>1</td>\n",
       "      <td>0</td>\n",
       "    </tr>\n",
       "  </tbody>\n",
       "</table>\n",
       "<p>718 rows × 16 columns</p>\n",
       "</div>"
      ],
      "text/plain": [
       "      Age_08_04      KM  Petrol  Diesel   HP  Automatic  Doors  Quarterly_Tax  \\\n",
       "780          61   76700       1       0   86          0      5             69   \n",
       "1010         60   36943       1       0  110          0      5             85   \n",
       "1426         78   30964       1       0  110          1      3             85   \n",
       "1405         76   45410       1       0   86          0      5             69   \n",
       "1282         80   73200       1       0  110          0      5             85   \n",
       "...         ...     ...     ...     ...  ...        ...    ...            ...   \n",
       "715          62   90000       1       0  110          0      3             69   \n",
       "905          65   59000       1       0  110          0      3             69   \n",
       "1096         75  125400       1       0  110          0      3             69   \n",
       "235          38   60829       1       0  110          0      5             85   \n",
       "1061         78  161775       1       0   86          0      3             69   \n",
       "\n",
       "      Mfr_Guarantee  Guarantee_Period  Airco  Automatic_airco  CD_Player  \\\n",
       "780               0                 3      0                0          0   \n",
       "1010              1                 3      0                0          0   \n",
       "1426              1                12      1                0          0   \n",
       "1405              1                 3      0                0          0   \n",
       "1282              0                 3      0                0          0   \n",
       "...             ...               ...    ...              ...        ...   \n",
       "715               0                 3      0                0          0   \n",
       "905               0                 3      0                0          0   \n",
       "1096              0                 6      0                0          0   \n",
       "235               1                 3      0                0          0   \n",
       "1061              0                 3      0                0          0   \n",
       "\n",
       "      Powered_Windows  Sport_Model  Tow_Bar  \n",
       "780                 0            1        0  \n",
       "1010                0            1        1  \n",
       "1426                0            0        1  \n",
       "1405                0            0        0  \n",
       "1282                1            1        0  \n",
       "...               ...          ...      ...  \n",
       "715                 0            1        0  \n",
       "905                 0            0        0  \n",
       "1096                1            0        0  \n",
       "235                 0            0        0  \n",
       "1061                1            1        0  \n",
       "\n",
       "[718 rows x 16 columns]"
      ]
     },
     "execution_count": 98,
     "metadata": {},
     "output_type": "execute_result"
    }
   ],
   "source": [
    "#train model using training data\n",
    "train_X"
   ]
  },
  {
   "cell_type": "code",
   "execution_count": 99,
   "metadata": {},
   "outputs": [
    {
     "data": {
      "text/plain": [
       "780      9950\n",
       "1010     9500\n",
       "1426     9950\n",
       "1405     7750\n",
       "1282     7500\n",
       "        ...  \n",
       "715      8490\n",
       "905      9950\n",
       "1096     7900\n",
       "235     11650\n",
       "1061     5800\n",
       "Name: Price, Length: 718, dtype: int64"
      ]
     },
     "execution_count": 99,
     "metadata": {},
     "output_type": "execute_result"
    }
   ],
   "source": [
    "#Actual value\n",
    "train_y"
   ]
  },
  {
   "cell_type": "code",
   "execution_count": 100,
   "metadata": {},
   "outputs": [
    {
     "data": {
      "text/html": [
       "<div>\n",
       "<style scoped>\n",
       "    .dataframe tbody tr th:only-of-type {\n",
       "        vertical-align: middle;\n",
       "    }\n",
       "\n",
       "    .dataframe tbody tr th {\n",
       "        vertical-align: top;\n",
       "    }\n",
       "\n",
       "    .dataframe thead th {\n",
       "        text-align: right;\n",
       "    }\n",
       "</style>\n",
       "<table border=\"1\" class=\"dataframe\">\n",
       "  <thead>\n",
       "    <tr style=\"text-align: right;\">\n",
       "      <th></th>\n",
       "      <th>Age_08_04</th>\n",
       "      <th>KM</th>\n",
       "      <th>Petrol</th>\n",
       "      <th>Diesel</th>\n",
       "      <th>HP</th>\n",
       "      <th>Automatic</th>\n",
       "      <th>Doors</th>\n",
       "      <th>Quarterly_Tax</th>\n",
       "      <th>Mfr_Guarantee</th>\n",
       "      <th>Guarantee_Period</th>\n",
       "      <th>Airco</th>\n",
       "      <th>Automatic_airco</th>\n",
       "      <th>CD_Player</th>\n",
       "      <th>Powered_Windows</th>\n",
       "      <th>Sport_Model</th>\n",
       "      <th>Tow_Bar</th>\n",
       "    </tr>\n",
       "  </thead>\n",
       "  <tbody>\n",
       "    <tr>\n",
       "      <td>701</td>\n",
       "      <td>66</td>\n",
       "      <td>94606</td>\n",
       "      <td>1</td>\n",
       "      <td>0</td>\n",
       "      <td>110</td>\n",
       "      <td>0</td>\n",
       "      <td>3</td>\n",
       "      <td>85</td>\n",
       "      <td>0</td>\n",
       "      <td>6</td>\n",
       "      <td>1</td>\n",
       "      <td>0</td>\n",
       "      <td>0</td>\n",
       "      <td>1</td>\n",
       "      <td>0</td>\n",
       "      <td>0</td>\n",
       "    </tr>\n",
       "    <tr>\n",
       "      <td>1205</td>\n",
       "      <td>75</td>\n",
       "      <td>87613</td>\n",
       "      <td>1</td>\n",
       "      <td>0</td>\n",
       "      <td>86</td>\n",
       "      <td>0</td>\n",
       "      <td>3</td>\n",
       "      <td>69</td>\n",
       "      <td>0</td>\n",
       "      <td>3</td>\n",
       "      <td>0</td>\n",
       "      <td>0</td>\n",
       "      <td>0</td>\n",
       "      <td>0</td>\n",
       "      <td>1</td>\n",
       "      <td>0</td>\n",
       "    </tr>\n",
       "    <tr>\n",
       "      <td>546</td>\n",
       "      <td>56</td>\n",
       "      <td>45336</td>\n",
       "      <td>1</td>\n",
       "      <td>0</td>\n",
       "      <td>110</td>\n",
       "      <td>0</td>\n",
       "      <td>5</td>\n",
       "      <td>85</td>\n",
       "      <td>1</td>\n",
       "      <td>3</td>\n",
       "      <td>1</td>\n",
       "      <td>0</td>\n",
       "      <td>1</td>\n",
       "      <td>1</td>\n",
       "      <td>0</td>\n",
       "      <td>0</td>\n",
       "    </tr>\n",
       "    <tr>\n",
       "      <td>1197</td>\n",
       "      <td>76</td>\n",
       "      <td>89520</td>\n",
       "      <td>1</td>\n",
       "      <td>0</td>\n",
       "      <td>110</td>\n",
       "      <td>0</td>\n",
       "      <td>3</td>\n",
       "      <td>69</td>\n",
       "      <td>1</td>\n",
       "      <td>3</td>\n",
       "      <td>0</td>\n",
       "      <td>0</td>\n",
       "      <td>0</td>\n",
       "      <td>0</td>\n",
       "      <td>0</td>\n",
       "      <td>0</td>\n",
       "    </tr>\n",
       "    <tr>\n",
       "      <td>737</td>\n",
       "      <td>62</td>\n",
       "      <td>83908</td>\n",
       "      <td>1</td>\n",
       "      <td>0</td>\n",
       "      <td>110</td>\n",
       "      <td>0</td>\n",
       "      <td>5</td>\n",
       "      <td>85</td>\n",
       "      <td>0</td>\n",
       "      <td>3</td>\n",
       "      <td>0</td>\n",
       "      <td>0</td>\n",
       "      <td>0</td>\n",
       "      <td>0</td>\n",
       "      <td>1</td>\n",
       "      <td>0</td>\n",
       "    </tr>\n",
       "  </tbody>\n",
       "</table>\n",
       "</div>"
      ],
      "text/plain": [
       "      Age_08_04     KM  Petrol  Diesel   HP  Automatic  Doors  Quarterly_Tax  \\\n",
       "701          66  94606       1       0  110          0      3             85   \n",
       "1205         75  87613       1       0   86          0      3             69   \n",
       "546          56  45336       1       0  110          0      5             85   \n",
       "1197         76  89520       1       0  110          0      3             69   \n",
       "737          62  83908       1       0  110          0      5             85   \n",
       "\n",
       "      Mfr_Guarantee  Guarantee_Period  Airco  Automatic_airco  CD_Player  \\\n",
       "701               0                 6      1                0          0   \n",
       "1205              0                 3      0                0          0   \n",
       "546               1                 3      1                0          1   \n",
       "1197              1                 3      0                0          0   \n",
       "737               0                 3      0                0          0   \n",
       "\n",
       "      Powered_Windows  Sport_Model  Tow_Bar  \n",
       "701                 1            0        0  \n",
       "1205                0            1        0  \n",
       "546                 1            0        0  \n",
       "1197                0            0        0  \n",
       "737                 0            1        0  "
      ]
     },
     "execution_count": 100,
     "metadata": {},
     "output_type": "execute_result"
    }
   ],
   "source": [
    "valid_X.head()"
   ]
  },
  {
   "cell_type": "code",
   "execution_count": 101,
   "metadata": {},
   "outputs": [
    {
     "data": {
      "text/plain": [
       "701      9900\n",
       "1205     6750\n",
       "546     12500\n",
       "1197     8950\n",
       "737      8750\n",
       "        ...  \n",
       "912      9450\n",
       "64      17950\n",
       "1163     8900\n",
       "1271     7145\n",
       "693      9900\n",
       "Name: Price, Length: 430, dtype: int64"
      ]
     },
     "execution_count": 101,
     "metadata": {},
     "output_type": "execute_result"
    }
   ],
   "source": [
    "valid_y"
   ]
  },
  {
   "cell_type": "markdown",
   "metadata": {},
   "source": [
    "To train a model use predictors ie train_X and the actual ie train_y\n",
    "\n",
    "To evaluate model use predictors ie valid_X and the valid actuals ie valid_y\n"
   ]
  },
  {
   "cell_type": "code",
   "execution_count": 102,
   "metadata": {},
   "outputs": [
    {
     "name": "stdout",
     "output_type": "stream",
     "text": [
      "Train MAE: 914.8382821539568\n",
      "Train MSE: 1527483.065325921\n",
      "Train RMSE: 1235.9138583760282\n",
      "\n",
      "Train MAE: 909.1485856925611\n",
      "Validation MSE: 1288292.986223452\n",
      "Validation RMSE: 1135.029949483031\n"
     ]
    }
   ],
   "source": [
    "#Part A\n",
    "#Model using all possible subsets and measure performance using Mean Square Error(MSE), Root Mean Square Error(RMSE), and Mean Absolute Error(MAE/MAD)\n",
    "#single model using all features\n",
    "\n",
    "model=LinearRegression()\n",
    "reg  = model.fit(train_X, train_y) \n",
    "\n",
    "pred_train = reg.predict(train_X)  #predicts outcome training data\n",
    "\n",
    "pred_valid = reg.predict(valid_X)  #predicts outcome using the validation data\n",
    "mean_absolute_error\n",
    "\n",
    "print(\"Train MAE: \"+str(mean_absolute_error(train_y,pred_train)))\n",
    "print(\"Train MSE: \"+str(mean_squared_error(train_y,pred_train)))\n",
    "print(\"Train RMSE: \"+str(math.sqrt(mean_squared_error(train_y,pred_train))) +\"\\n\")\n",
    "\n",
    "print(\"Train MAE: \"+str(mean_absolute_error(valid_y,pred_valid)))\n",
    "print(\"Validation MSE: \"+str(mean_squared_error(valid_y,pred_valid)))\n",
    "print(\"Validation RMSE: \"+str(math.sqrt(mean_squared_error(valid_y,pred_valid))))"
   ]
  },
  {
   "cell_type": "code",
   "execution_count": 103,
   "metadata": {},
   "outputs": [
    {
     "name": "stdout",
     "output_type": "stream",
     "text": [
      "0.7255813953488373\n"
     ]
    },
    {
     "data": {
      "image/png": "[encoded data removed]",
      "text/plain": [
       "<Figure size 432x288 with 1 Axes>"
      ]
     },
     "metadata": {
      "needs_background": "light"
     },
     "output_type": "display_data"
    }
   ],
   "source": [
    "valid_pred = reg.predict(valid_X) \n",
    "all_residuals = valid_y - valid_pred\n",
    "# Determine the percentage of datapoints with a residual in [-1200, 1200] = approx.\n",
    "# 75%\n",
    "print(len(all_residuals[(all_residuals > -1200) & (all_residuals < 1200)]) /\n",
    "len(all_residuals))\n",
    "pd.DataFrame(all_residuals).hist(bins=25) \n",
    "plt.show()"
   ]
  },
  {
   "cell_type": "code",
   "execution_count": 81,
   "metadata": {},
   "outputs": [
    {
     "name": "stdout",
     "output_type": "stream",
     "text": [
      "train RMSE: 1091.7973523140397\n",
      "validation RMSE: 1050.7302243096212\n"
     ]
    }
   ],
   "source": [
    "#single model using 8 features which I think is important\n",
    "cols=['Age_08_04', 'KM', 'Petrol', 'Diesel', 'HP', 'Automatic', 'Doors', 'Quarterly_Tax']\n",
    "\n",
    "model=LinearRegression()\n",
    "reg  = model.fit(train_X[cols], train_y) \n",
    "\n",
    "pred_train = reg.predict(train_X[cols])  #predicts outcome training data\n",
    "\n",
    "pred_valid = reg.predict(valid_X[cols])  #predicts outcome using the validation data\n",
    "\n",
    "print(\"train RMSE: \"+str(mean_absolute_error(train_y,pred_train)))\n",
    "\n",
    "print(\"validation RMSE: \"+str(mean_absolute_error(valid_y,pred_valid)))"
   ]
  },
  {
   "cell_type": "code",
   "execution_count": 85,
   "metadata": {},
   "outputs": [
    {
     "name": "stdout",
     "output_type": "stream",
     "text": [
      "train RMSE: 1097.4193862855773\n",
      "validation RMSE: 1074.4445107788733\n"
     ]
    }
   ],
   "source": [
    "#single model using 6 features which I think is important\n",
    "cols=['Age_08_04', 'KM', 'Petrol', 'Diesel', 'HP','Quarterly_Tax']\n",
    "\n",
    "model=LinearRegression()\n",
    "reg  = model.fit(train_X[cols], train_y) \n",
    "\n",
    "pred_train = reg.predict(train_X[cols])  #predicts outcome training data\n",
    "\n",
    "pred_valid = reg.predict(valid_X[cols])  #predicts outcome using the validation data\n",
    "\n",
    "print(\"train RMSE: \"+str(mean_absolute_error(train_y,pred_train)))\n",
    "\n",
    "print(\"validation RMSE: \"+str(mean_absolute_error(valid_y,pred_valid)))"
   ]
  },
  {
   "cell_type": "markdown",
   "metadata": {},
   "source": [
    "The eight set of features gives better validation RMSE value than the all other set of features. \n",
    "\n",
    "train RMSE: 1091.7973523141816\n",
    "validation RMSE: 1050.7302243097674\n",
    "\n",
    "It might be due to overfitting."
   ]
  },
  {
   "cell_type": "code",
   "execution_count": 44,
   "metadata": {},
   "outputs": [],
   "source": [
    "def findsubsets(s, n): \n",
    "    return list(map(set, itertools.combinations(s, n)))"
   ]
  },
  {
   "cell_type": "code",
   "execution_count": 45,
   "metadata": {},
   "outputs": [],
   "source": [
    "def exhaustive(model,train_X,train_y,valid_X,valid_y):\n",
    "    low_err=600000**2\n",
    "\n",
    "    for x in range(len(train_X.columns),0,-1):\n",
    "        n=x\n",
    "        #print(\"number of features \"+str(n))\n",
    "        ss=findsubsets(train_X.columns,n)\n",
    "        print(\"_\"*50)\n",
    "        print(str(len(ss))+\" model(s) using \"+ str(n)+ \" features\")\n",
    "        for z in range(0,len(ss)):\n",
    "        \n",
    "            model = model\n",
    "            reg  = model.fit(train_X[ss[z]], train_y)\n",
    "            pred_train = reg.predict(train_X[ss[z]])\n",
    "            err_train= mean_squared_error(train_y, pred_train)\n",
    "            \n",
    "            \n",
    "            pred_valid = reg.predict(valid_X[ss[z]])\n",
    "            err_valid = mean_squared_error(valid_y, pred_valid)\n",
    "            mae_valid = mean_absolute_error(valid_y,pred_valid)    \n",
    "        \n",
    "            if err_valid < low_err:\n",
    "                low_err=err_valid\n",
    "                low_err_features=list(ss[z])\n",
    "                print(\"_\"*50)\n",
    "                print(low_err_features)\n",
    "                print(\"RMSE train: \"+str(err_train ** .5))\n",
    "                print(\"MSE train: \"+str(low_err))\n",
    "                print(\"RMSE validation: \"+str(low_err ** .5))\n",
    "                print(\"MAE validation: \"+str(mae_valid))\n",
    "                abs(valid_y-pred_valid).hist()\n",
    "                plt.show()\n",
    "                print(\"_\"*50)"
   ]
  },
  {
   "cell_type": "code",
   "execution_count": 46,
   "metadata": {
    "scrolled": false
   },
   "outputs": [
    {
     "name": "stdout",
     "output_type": "stream",
     "text": [
      "__________________________________________________\n",
      "1 model(s) using 16 features\n",
      "__________________________________________________\n",
      "['HP', 'Doors', 'CD_Player', 'Tow_Bar', 'Powered_Windows', 'Guarantee_Period', 'Sport_Model', 'Quarterly_Tax', 'Mfr_Guarantee', 'Petrol', 'Airco', 'Age_08_04', 'KM', 'Automatic_airco', 'Diesel', 'Automatic']\n",
      "RMSE train: 1235.9138583760282\n",
      "MSE train: 1288292.9862240988\n",
      "RMSE validation: 1135.029949483316\n",
      "MAE validation: 909.1485856930913\n"
     ]
    },
    {
     "data": {
      "image/png": "[encoded data removed]",
      "text/plain": [
       "<Figure size 432x288 with 1 Axes>"
      ]
     },
     "metadata": {
      "needs_background": "light"
     },
     "output_type": "display_data"
    },
    {
     "name": "stdout",
     "output_type": "stream",
     "text": [
      "__________________________________________________\n",
      "__________________________________________________\n",
      "16 model(s) using 15 features\n",
      "__________________________________________________\n",
      "['HP', 'Doors', 'CD_Player', 'Tow_Bar', 'Powered_Windows', 'Guarantee_Period', 'Quarterly_Tax', 'Mfr_Guarantee', 'Petrol', 'Airco', 'Age_08_04', 'KM', 'Automatic_airco', 'Diesel', 'Automatic']\n",
      "RMSE train: 1255.896987235991\n",
      "MSE train: 1267122.009120762\n",
      "RMSE validation: 1125.6651407593477\n",
      "MAE validation: 899.2849369344796\n"
     ]
    },
    {
     "data": {
      "image/png": "[encoded data removed]",
      "text/plain": [
       "<Figure size 432x288 with 1 Axes>"
      ]
     },
     "metadata": {
      "needs_background": "light"
     },
     "output_type": "display_data"
    },
    {
     "name": "stdout",
     "output_type": "stream",
     "text": [
      "__________________________________________________\n",
      "__________________________________________________\n",
      "['HP', 'CD_Player', 'Tow_Bar', 'Powered_Windows', 'Guarantee_Period', 'Sport_Model', 'Quarterly_Tax', 'Mfr_Guarantee', 'Petrol', 'Airco', 'Age_08_04', 'KM', 'Automatic_airco', 'Diesel', 'Automatic']\n",
      "RMSE train: 1250.7153652180352\n",
      "MSE train: 1257554.8442322637\n",
      "RMSE validation: 1121.4075281681783\n",
      "MAE validation: 900.3049110100027\n"
     ]
    },
    {
     "data": {
      "image/png": "[encoded data removed]",
      "text/plain": [
       "<Figure size 432x288 with 1 Axes>"
      ]
     },
     "metadata": {
      "needs_background": "light"
     },
     "output_type": "display_data"
    },
    {
     "name": "stdout",
     "output_type": "stream",
     "text": [
      "__________________________________________________\n",
      "__________________________________________________\n",
      "120 model(s) using 14 features\n",
      "__________________________________________________\n",
      "['HP', 'CD_Player', 'Tow_Bar', 'Powered_Windows', 'Guarantee_Period', 'Quarterly_Tax', 'Mfr_Guarantee', 'Petrol', 'Airco', 'Age_08_04', 'KM', 'Automatic_airco', 'Diesel', 'Automatic']\n",
      "RMSE train: 1266.6401043189996\n",
      "MSE train: 1240094.6795127667\n",
      "RMSE validation: 1113.595384110749\n",
      "MAE validation: 888.4806031543831\n"
     ]
    },
    {
     "data": {
      "image/png": "[encoded data removed]",
      "text/plain": [
       "<Figure size 432x288 with 1 Axes>"
      ]
     },
     "metadata": {
      "needs_background": "light"
     },
     "output_type": "display_data"
    },
    {
     "name": "stdout",
     "output_type": "stream",
     "text": [
      "__________________________________________________\n",
      "__________________________________________________\n",
      "['HP', 'CD_Player', 'Tow_Bar', 'Powered_Windows', 'Guarantee_Period', 'Sport_Model', 'Quarterly_Tax', 'Mfr_Guarantee', 'Petrol', 'Airco', 'Age_08_04', 'KM', 'Automatic_airco', 'Automatic']\n",
      "RMSE train: 1269.0816898745013\n",
      "MSE train: 1238427.77973462\n",
      "RMSE validation: 1112.8467009137512\n",
      "MAE validation: 898.8931236657379\n"
     ]
    },
    {
     "data": {
      "image/png": "[encoded data removed]",
      "text/plain": [
       "<Figure size 432x288 with 1 Axes>"
      ]
     },
     "metadata": {
      "needs_background": "light"
     },
     "output_type": "display_data"
    },
    {
     "name": "stdout",
     "output_type": "stream",
     "text": [
      "__________________________________________________\n",
      "__________________________________________________\n",
      "560 model(s) using 13 features\n",
      "__________________________________________________\n",
      "['HP', 'CD_Player', 'Tow_Bar', 'Powered_Windows', 'Guarantee_Period', 'Quarterly_Tax', 'Mfr_Guarantee', 'Petrol', 'Airco', 'Age_08_04', 'KM', 'Automatic_airco', 'Automatic']\n",
      "RMSE train: 1285.2734443293582\n",
      "MSE train: 1220065.3461204155\n",
      "RMSE validation: 1104.5656821214461\n",
      "MAE validation: 885.7475518293869\n"
     ]
    },
    {
     "data": {
      "image/png": "[encoded data removed]",
      "text/plain": [
       "<Figure size 432x288 with 1 Axes>"
      ]
     },
     "metadata": {
      "needs_background": "light"
     },
     "output_type": "display_data"
    },
    {
     "name": "stdout",
     "output_type": "stream",
     "text": [
      "__________________________________________________\n",
      "__________________________________________________\n",
      "1820 model(s) using 12 features\n",
      "__________________________________________________\n",
      "4368 model(s) using 11 features\n",
      "__________________________________________________\n",
      "8008 model(s) using 10 features\n",
      "__________________________________________________\n",
      "11440 model(s) using 9 features\n",
      "__________________________________________________\n",
      "12870 model(s) using 8 features\n",
      "__________________________________________________\n",
      "11440 model(s) using 7 features\n",
      "__________________________________________________\n",
      "8008 model(s) using 6 features\n",
      "__________________________________________________\n",
      "4368 model(s) using 5 features\n",
      "__________________________________________________\n",
      "1820 model(s) using 4 features\n",
      "__________________________________________________\n",
      "560 model(s) using 3 features\n",
      "__________________________________________________\n",
      "120 model(s) using 2 features\n",
      "__________________________________________________\n",
      "16 model(s) using 1 features\n"
     ]
    }
   ],
   "source": [
    "#Part B\n",
    "#The models without normalized the data.\n",
    "exhaustive(model=LinearRegression(normalize=False,n_jobs=-1), train_X=train_X, train_y=train_y,valid_X=valid_X,valid_y=valid_y )"
   ]
  },
  {
   "cell_type": "markdown",
   "metadata": {},
   "source": [
    "560 model(s) using 13 features\n",
    "['Quarterly_Tax', 'Petrol', 'Age_08_04', 'HP', 'Mfr_Guarantee', 'Airco', 'Automatic', 'Guarantee_Period', 'Automatic_airco', 'CD_Player', 'Tow_Bar', 'KM', 'Powered_Windows']\n",
    "RMSE train: 1285.2734443293582\n",
    "MSE validation: 1220065.3461216236\n",
    "RMSE validation: 1104.565682121993\n",
    "MAE validation: 885.7475518304306\n",
    "    \n",
    "Has best predictive value with less RMSE.    "
   ]
  },
  {
   "cell_type": "code",
   "execution_count": 48,
   "metadata": {},
   "outputs": [
    {
     "name": "stdout",
     "output_type": "stream",
     "text": [
      "__________________________________________________\n",
      "1 model(s) using 16 features\n",
      "__________________________________________________\n",
      "['HP', 'Doors', 'CD_Player', 'Tow_Bar', 'Powered_Windows', 'Guarantee_Period', 'Sport_Model', 'Quarterly_Tax', 'Mfr_Guarantee', 'Petrol', 'Airco', 'Age_08_04', 'KM', 'Automatic_airco', 'Diesel', 'Automatic']\n",
      "RMSE train: 1235.9138583760282\n",
      "MSE train: 1288292.9862238269\n",
      "RMSE validation: 1135.029949483196\n",
      "MAE validation: 909.1485856928653\n"
     ]
    },
    {
     "data": {
      "image/png": "[encoded data removed]",
      "text/plain": [
       "<Figure size 432x288 with 1 Axes>"
      ]
     },
     "metadata": {
      "needs_background": "light"
     },
     "output_type": "display_data"
    },
    {
     "name": "stdout",
     "output_type": "stream",
     "text": [
      "__________________________________________________\n",
      "__________________________________________________\n",
      "16 model(s) using 15 features\n",
      "__________________________________________________\n",
      "['HP', 'Doors', 'CD_Player', 'Tow_Bar', 'Powered_Windows', 'Guarantee_Period', 'Quarterly_Tax', 'Mfr_Guarantee', 'Petrol', 'Airco', 'Age_08_04', 'KM', 'Automatic_airco', 'Diesel', 'Automatic']\n",
      "RMSE train: 1255.896987235991\n",
      "MSE train: 1267122.0091206406\n",
      "RMSE validation: 1125.6651407592938\n",
      "MAE validation: 899.2849369343974\n"
     ]
    },
    {
     "data": {
      "image/png": "[encoded data removed]",
      "text/plain": [
       "<Figure size 432x288 with 1 Axes>"
      ]
     },
     "metadata": {
      "needs_background": "light"
     },
     "output_type": "display_data"
    },
    {
     "name": "stdout",
     "output_type": "stream",
     "text": [
      "__________________________________________________\n",
      "__________________________________________________\n",
      "['HP', 'CD_Player', 'Tow_Bar', 'Powered_Windows', 'Guarantee_Period', 'Sport_Model', 'Quarterly_Tax', 'Mfr_Guarantee', 'Petrol', 'Airco', 'Age_08_04', 'KM', 'Automatic_airco', 'Diesel', 'Automatic']\n",
      "RMSE train: 1250.7153652180352\n",
      "MSE train: 1257554.844232013\n",
      "RMSE validation: 1121.4075281680666\n",
      "MAE validation: 900.3049110098264\n"
     ]
    },
    {
     "data": {
      "image/png": "[encoded data removed]",
      "text/plain": [
       "<Figure size 432x288 with 1 Axes>"
      ]
     },
     "metadata": {
      "needs_background": "light"
     },
     "output_type": "display_data"
    },
    {
     "name": "stdout",
     "output_type": "stream",
     "text": [
      "__________________________________________________\n",
      "__________________________________________________\n",
      "120 model(s) using 14 features\n",
      "__________________________________________________\n",
      "['HP', 'CD_Player', 'Tow_Bar', 'Powered_Windows', 'Guarantee_Period', 'Quarterly_Tax', 'Mfr_Guarantee', 'Petrol', 'Airco', 'Age_08_04', 'KM', 'Automatic_airco', 'Diesel', 'Automatic']\n",
      "RMSE train: 1266.6401043189994\n",
      "MSE train: 1240094.6795123317\n",
      "RMSE validation: 1113.5953841105538\n",
      "MAE validation: 888.4806031539885\n"
     ]
    },
    {
     "data": {
      "image/png": "[encoded data removed]",
      "text/plain": [
       "<Figure size 432x288 with 1 Axes>"
      ]
     },
     "metadata": {
      "needs_background": "light"
     },
     "output_type": "display_data"
    },
    {
     "name": "stdout",
     "output_type": "stream",
     "text": [
      "__________________________________________________\n",
      "__________________________________________________\n",
      "['HP', 'CD_Player', 'Tow_Bar', 'Powered_Windows', 'Guarantee_Period', 'Sport_Model', 'Quarterly_Tax', 'Mfr_Guarantee', 'Petrol', 'Airco', 'Age_08_04', 'KM', 'Automatic_airco', 'Automatic']\n",
      "RMSE train: 1269.0816898745013\n",
      "MSE train: 1238427.779734297\n",
      "RMSE validation: 1112.8467009136061\n",
      "MAE validation: 898.8931236654895\n"
     ]
    },
    {
     "data": {
      "image/png": "[encoded data removed]",
      "text/plain": [
       "<Figure size 432x288 with 1 Axes>"
      ]
     },
     "metadata": {
      "needs_background": "light"
     },
     "output_type": "display_data"
    },
    {
     "name": "stdout",
     "output_type": "stream",
     "text": [
      "__________________________________________________\n",
      "__________________________________________________\n",
      "560 model(s) using 13 features\n",
      "__________________________________________________\n",
      "['HP', 'CD_Player', 'Tow_Bar', 'Powered_Windows', 'Guarantee_Period', 'Quarterly_Tax', 'Mfr_Guarantee', 'Petrol', 'Airco', 'Age_08_04', 'KM', 'Automatic_airco', 'Automatic']\n",
      "RMSE train: 1285.2734443293582\n",
      "MSE train: 1220065.346120054\n",
      "RMSE validation: 1104.5656821212824\n",
      "MAE validation: 885.7475518291061\n"
     ]
    },
    {
     "data": {
      "image/png": "[encoded data removed]",
      "text/plain": [
       "<Figure size 432x288 with 1 Axes>"
      ]
     },
     "metadata": {
      "needs_background": "light"
     },
     "output_type": "display_data"
    },
    {
     "name": "stdout",
     "output_type": "stream",
     "text": [
      "__________________________________________________\n",
      "__________________________________________________\n",
      "1820 model(s) using 12 features\n",
      "__________________________________________________\n",
      "4368 model(s) using 11 features\n",
      "__________________________________________________\n",
      "8008 model(s) using 10 features\n",
      "__________________________________________________\n",
      "11440 model(s) using 9 features\n",
      "__________________________________________________\n",
      "12870 model(s) using 8 features\n",
      "__________________________________________________\n",
      "11440 model(s) using 7 features\n",
      "__________________________________________________\n",
      "8008 model(s) using 6 features\n",
      "__________________________________________________\n",
      "4368 model(s) using 5 features\n",
      "__________________________________________________\n",
      "1820 model(s) using 4 features\n",
      "__________________________________________________\n",
      "560 model(s) using 3 features\n",
      "__________________________________________________\n",
      "120 model(s) using 2 features\n",
      "__________________________________________________\n",
      "16 model(s) using 1 features\n"
     ]
    }
   ],
   "source": [
    "#The models with normalized the data.\n",
    "\n",
    "exhaustive(model=LinearRegression(normalize=True,n_jobs=-1), train_X=train_X, train_y=train_y,valid_X=valid_X,valid_y=valid_y )"
   ]
  },
  {
   "cell_type": "code",
   "execution_count": 47,
   "metadata": {},
   "outputs": [
    {
     "name": "stdout",
     "output_type": "stream",
     "text": [
      "__________________________________________________\n",
      "1 model(s) using 16 features\n",
      "__________________________________________________\n",
      "['HP', 'Doors', 'CD_Player', 'Tow_Bar', 'Powered_Windows', 'Guarantee_Period', 'Sport_Model', 'Quarterly_Tax', 'Mfr_Guarantee', 'Petrol', 'Airco', 'Age_08_04', 'KM', 'Automatic_airco', 'Diesel', 'Automatic']\n",
      "RMSE train: 1235.9138583760282\n",
      "MSE train: 1288292.9862238285\n",
      "RMSE validation: 1135.029949483197\n",
      "MAE validation: 909.1485856928659\n"
     ]
    },
    {
     "data": {
      "image/png": "[encoded data removed]",
      "text/plain": [
       "<Figure size 432x288 with 1 Axes>"
      ]
     },
     "metadata": {
      "needs_background": "light"
     },
     "output_type": "display_data"
    },
    {
     "name": "stdout",
     "output_type": "stream",
     "text": [
      "__________________________________________________\n",
      "__________________________________________________\n",
      "16 model(s) using 15 features\n",
      "__________________________________________________\n",
      "['HP', 'Doors', 'CD_Player', 'Tow_Bar', 'Powered_Windows', 'Guarantee_Period', 'Quarterly_Tax', 'Mfr_Guarantee', 'Petrol', 'Airco', 'Age_08_04', 'KM', 'Automatic_airco', 'Diesel', 'Automatic']\n",
      "RMSE train: 1255.896987235991\n",
      "MSE train: 1267122.009120645\n",
      "RMSE validation: 1125.6651407592958\n",
      "MAE validation: 899.2849369343993\n"
     ]
    },
    {
     "data": {
      "image/png": "[encoded data removed]",
      "text/plain": [
       "<Figure size 432x288 with 1 Axes>"
      ]
     },
     "metadata": {
      "needs_background": "light"
     },
     "output_type": "display_data"
    },
    {
     "name": "stdout",
     "output_type": "stream",
     "text": [
      "__________________________________________________\n",
      "__________________________________________________\n",
      "['HP', 'CD_Player', 'Tow_Bar', 'Powered_Windows', 'Guarantee_Period', 'Sport_Model', 'Quarterly_Tax', 'Mfr_Guarantee', 'Petrol', 'Airco', 'Age_08_04', 'KM', 'Automatic_airco', 'Diesel', 'Automatic']\n",
      "RMSE train: 1250.7153652180352\n",
      "MSE train: 1257554.8442320102\n",
      "RMSE validation: 1121.4075281680653\n",
      "MAE validation: 900.3049110098254\n"
     ]
    },
    {
     "data": {
      "image/png": "[encoded data removed]",
      "text/plain": [
       "<Figure size 432x288 with 1 Axes>"
      ]
     },
     "metadata": {
      "needs_background": "light"
     },
     "output_type": "display_data"
    },
    {
     "name": "stdout",
     "output_type": "stream",
     "text": [
      "__________________________________________________\n",
      "__________________________________________________\n",
      "120 model(s) using 14 features\n",
      "__________________________________________________\n",
      "['HP', 'CD_Player', 'Tow_Bar', 'Powered_Windows', 'Guarantee_Period', 'Quarterly_Tax', 'Mfr_Guarantee', 'Petrol', 'Airco', 'Age_08_04', 'KM', 'Automatic_airco', 'Diesel', 'Automatic']\n",
      "RMSE train: 1266.6401043189996\n",
      "MSE train: 1240094.6795123296\n",
      "RMSE validation: 1113.595384110553\n",
      "MAE validation: 888.4806031539877\n"
     ]
    },
    {
     "data": {
      "image/png": "[encoded data removed]",
      "text/plain": [
       "<Figure size 432x288 with 1 Axes>"
      ]
     },
     "metadata": {
      "needs_background": "light"
     },
     "output_type": "display_data"
    },
    {
     "name": "stdout",
     "output_type": "stream",
     "text": [
      "__________________________________________________\n",
      "__________________________________________________\n",
      "['HP', 'CD_Player', 'Tow_Bar', 'Powered_Windows', 'Guarantee_Period', 'Sport_Model', 'Quarterly_Tax', 'Mfr_Guarantee', 'Petrol', 'Airco', 'Age_08_04', 'KM', 'Automatic_airco', 'Automatic']\n",
      "RMSE train: 1269.0816898745013\n",
      "MSE train: 1238427.7797342977\n",
      "RMSE validation: 1112.8467009136064\n",
      "MAE validation: 898.8931236654896\n"
     ]
    },
    {
     "data": {
      "image/png": "[encoded data removed]",
      "text/plain": [
       "<Figure size 432x288 with 1 Axes>"
      ]
     },
     "metadata": {
      "needs_background": "light"
     },
     "output_type": "display_data"
    },
    {
     "name": "stdout",
     "output_type": "stream",
     "text": [
      "__________________________________________________\n",
      "__________________________________________________\n",
      "560 model(s) using 13 features\n",
      "__________________________________________________\n",
      "['HP', 'CD_Player', 'Tow_Bar', 'Powered_Windows', 'Guarantee_Period', 'Quarterly_Tax', 'Mfr_Guarantee', 'Petrol', 'Airco', 'Age_08_04', 'KM', 'Automatic_airco', 'Automatic']\n",
      "RMSE train: 1285.2734443293582\n",
      "MSE train: 1220065.346120054\n",
      "RMSE validation: 1104.5656821212824\n",
      "MAE validation: 885.7475518291061\n"
     ]
    },
    {
     "data": {
      "image/png": "[encoded data removed]",
      "text/plain": [
       "<Figure size 432x288 with 1 Axes>"
      ]
     },
     "metadata": {
      "needs_background": "light"
     },
     "output_type": "display_data"
    },
    {
     "name": "stdout",
     "output_type": "stream",
     "text": [
      "__________________________________________________\n",
      "__________________________________________________\n",
      "1820 model(s) using 12 features\n",
      "__________________________________________________\n",
      "4368 model(s) using 11 features\n",
      "__________________________________________________\n",
      "8008 model(s) using 10 features\n",
      "__________________________________________________\n",
      "11440 model(s) using 9 features\n",
      "__________________________________________________\n",
      "12870 model(s) using 8 features\n",
      "__________________________________________________\n",
      "11440 model(s) using 7 features\n",
      "__________________________________________________\n",
      "8008 model(s) using 6 features\n",
      "__________________________________________________\n",
      "4368 model(s) using 5 features\n",
      "__________________________________________________\n",
      "1820 model(s) using 4 features\n",
      "__________________________________________________\n",
      "560 model(s) using 3 features\n",
      "__________________________________________________\n",
      "120 model(s) using 2 features\n",
      "__________________________________________________\n",
      "16 model(s) using 1 features\n"
     ]
    }
   ],
   "source": [
    "#The models with minmax scaler.\n",
    "\n",
    "data = pd.read_csv('/Users/nivethida/Downloads/ToyotaCorolla(1).csv')\n",
    "# Setting up dummy colums for Object\n",
    "data=pd.concat([data,pd.get_dummies(data['Fuel_Type'], prefix_sep='_',)],axis=1)\n",
    "\n",
    "# Dropping the Object columns\n",
    "data = data.drop(list(['Fuel_Type']), axis = 1)\n",
    "data = data.drop(list(['Model']), axis = 1)\n",
    "data = data.drop(list(['Color']), axis = 1)\n",
    "\n",
    "scaler = preprocessing.MinMaxScaler()\n",
    "data = pd.DataFrame(scaler.fit_transform(data), index=data.index, columns=data.columns)\n",
    "\n",
    "\n",
    "train_X, temp_X, train_y, temp_y = train_test_split(data[predictors], y, test_size=0.5, random_state=1)\n",
    "valid_X, test_X, valid_y, test_y = train_test_split(temp_X, temp_y, test_size=0.4, random_state=1)\n",
    "\n",
    "# Normalize False here as we are using minmax scaler.\n",
    "exhaustive(model=LinearRegression(normalize=False,n_jobs=-1), train_X=train_X, train_y=train_y,valid_X=valid_X,valid_y=valid_y )"
   ]
  },
  {
   "cell_type": "markdown",
   "metadata": {},
   "source": [
    "From the above models with the minmax scaler, Normalization True and Normalization False the below feature set has the best values.\n",
    "\n",
    "['HP', 'CD_Player', 'Tow_Bar', 'Powered_Windows', 'Guarantee_Period', 'Quarterly_Tax', 'Mfr_Guarantee', 'Petrol', 'Airco', 'Age_08_04', 'KM', 'Automatic_airco', 'Automatic']\n",
    "\n",
    "RMSE train: 1285.2734443293582\n",
    "MSE train: 1220065.346120054\n",
    "RMSE validation: 1104.5656821212824\n",
    "MAE validation: 885.7475518291061"
   ]
  },
  {
   "cell_type": "code",
   "execution_count": 59,
   "metadata": {},
   "outputs": [],
   "source": [
    "def reg_shrink(model,train_X,train_y,valid_X,valid_y):\n",
    "        model = model\n",
    "        reg  = model.fit(train_X, train_y)\n",
    "            \n",
    "        pred_train = reg.predict(train_X)\n",
    "        err_train= mean_squared_error(train_y, pred_train)\n",
    "\n",
    "        pred_valid = reg.predict(valid_X)\n",
    "        err_valid = mean_squared_error(valid_y, pred_valid)\n",
    "            \n",
    "        print(\"RMSE train: \"+str(err_train ** .5))\n",
    "        print(\"RMSE validation: \"+str(err_valid ** .5))\n",
    "        abs(valid_y-pred_valid).hist()"
   ]
  },
  {
   "cell_type": "code",
   "execution_count": 60,
   "metadata": {},
   "outputs": [
    {
     "name": "stdout",
     "output_type": "stream",
     "text": [
      "RMSE train: 1236.2964770204567\n",
      "RMSE validation: 1132.2762192646965\n"
     ]
    },
    {
     "data": {
      "image/png": "[encoded data removed]",
      "text/plain": [
       "<Figure size 432x288 with 1 Axes>"
      ]
     },
     "metadata": {
      "needs_background": "light"
     },
     "output_type": "display_data"
    }
   ],
   "source": [
    "# Part B\n",
    "# Using Lasso\n",
    "# Am keeping normalize = False as the data is already standardized using minmax scaler.\n",
    "reg_shrink(model=Lasso(normalize=False,alpha=1), \n",
    "           train_X=train_X, train_y=train_y,valid_X=valid_X,valid_y=valid_y )"
   ]
  },
  {
   "cell_type": "code",
   "execution_count": 61,
   "metadata": {},
   "outputs": [
    {
     "name": "stdout",
     "output_type": "stream",
     "text": [
      "RMSE train: 1236.1609593608578\n",
      "RMSE validation: 1132.7698577067515\n"
     ]
    },
    {
     "data": {
      "image/png": "[encoded data removed]",
      "text/plain": [
       "<Figure size 432x288 with 1 Axes>"
      ]
     },
     "metadata": {
      "needs_background": "light"
     },
     "output_type": "display_data"
    }
   ],
   "source": [
    "# Using LassoCV\n",
    "reg_shrink(model=LassoCV(normalize=False,cv=5), \n",
    "           train_X=train_X, train_y=train_y,valid_X=valid_X,valid_y=valid_y )"
   ]
  },
  {
   "cell_type": "code",
   "execution_count": 62,
   "metadata": {},
   "outputs": [
    {
     "name": "stdout",
     "output_type": "stream",
     "text": [
      "RMSE train: 1241.487504003145\n",
      "RMSE validation: 1129.0162890548133\n"
     ]
    },
    {
     "data": {
      "image/png": "[encoded data removed]",
      "text/plain": [
       "<Figure size 432x288 with 1 Axes>"
      ]
     },
     "metadata": {
      "needs_background": "light"
     },
     "output_type": "display_data"
    }
   ],
   "source": [
    "# Using Ridge\n",
    "reg_shrink(model=Ridge(normalize=False,alpha=1), \n",
    "           train_X=train_X, train_y=train_y,valid_X=valid_X,valid_y=valid_y )"
   ]
  },
  {
   "cell_type": "code",
   "execution_count": 63,
   "metadata": {},
   "outputs": [
    {
     "name": "stdout",
     "output_type": "stream",
     "text": [
      "RMSE train: 1235.9908504647658\n",
      "RMSE validation: 1133.8410378187561\n"
     ]
    },
    {
     "data": {
      "image/png": "[encoded data removed]",
      "text/plain": [
       "<Figure size 432x288 with 1 Axes>"
      ]
     },
     "metadata": {
      "needs_background": "light"
     },
     "output_type": "display_data"
    }
   ],
   "source": [
    "# Using RidgeCV\n",
    "reg_shrink(model=RidgeCV(normalize=False,cv=5), \n",
    "           train_X=train_X, train_y=train_y,valid_X=valid_X,valid_y=valid_y )"
   ]
  },
  {
   "cell_type": "markdown",
   "metadata": {},
   "source": [
    "Of all the Regularization method used, In LinearRegression we are getting better result which utilizes all the subsets.\n",
    "RMSE train: 1285.2734443293582\n",
    "RMSE validation: 1104.5656821212824\n",
    "\n",
    "Next to it,using Ridge a single model approach, Minimizes SSE (Sum ofSquared Errors) we get the best RMSE value\n",
    "RMSE train: 1241.487504003145\n",
    "RMSE validation: 1129.0162890548133\n",
    "But there is short coming inluded which is Ridge penalizes L2, is sum of squared coefficients\n",
    "\n",
    "Then the LASSO Regression model approach, Minimizes SSE (Sum of Squared Errors) subject to L1, is sum of absolute\n",
    "values for coefficients penalty\n",
    "RMSE train: 1236.1609593608578\n",
    "RMSE validation: 1132.7698577067515"
   ]
  },
  {
   "cell_type": "code",
   "execution_count": null,
   "metadata": {},
   "outputs": [],
   "source": []
  }
 ],
 "metadata": {
  "kernelspec": {
   "display_name": "Python 3",
   "language": "python",
   "name": "python3"
  },
  "language_info": {
   "codemirror_mode": {
    "name": "ipython",
    "version": 3
   },
   "file_extension": ".py",
   "mimetype": "text/x-python",
   "name": "python",
   "nbconvert_exporter": "python",
   "pygments_lexer": "ipython3",
   "version": "3.7.4"
  }
 },
 "nbformat": 4,
 "nbformat_minor": 2
}
