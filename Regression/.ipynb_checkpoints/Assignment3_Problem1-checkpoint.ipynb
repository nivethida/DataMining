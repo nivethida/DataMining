{
 "cells": [
  {
   "cell_type": "code",
   "execution_count": 14,
   "metadata": {},
   "outputs": [],
   "source": [
    "import pandas as pd\n",
    "import numpy as np\n",
    "import matplotlib.pyplot as plt\n",
    "\n",
    "from sklearn.metrics import confusion_matrix \n",
    "from sklearn.metrics import accuracy_score  \n",
    "from sklearn.metrics import precision_score \n",
    "from sklearn.metrics import recall_score  \n",
    "from sklearn.metrics import auc  \n",
    "from sklearn.metrics import roc_auc_score  \n",
    "from sklearn.metrics import log_loss  \n",
    "from sklearn.metrics import f1_score  \n",
    "\n",
    "# charts\n",
    "from sklearn.metrics import roc_curve \n",
    "from sklearn.metrics import precision_recall_curve "
   ]
  },
  {
   "cell_type": "code",
   "execution_count": 15,
   "metadata": {},
   "outputs": [
    {
     "name": "stdout",
     "output_type": "stream",
     "text": [
      "<class 'pandas.core.frame.DataFrame'>\n",
      "RangeIndex: 1000 entries, 0 to 999\n",
      "Data columns (total 2 columns):\n",
      "Propensity    1000 non-null float64\n",
      "Actual        1000 non-null int64\n",
      "dtypes: float64(1), int64(1)\n",
      "memory usage: 15.8 KB\n"
     ]
    }
   ],
   "source": [
    "data = pd.read_csv('/Users/nivethida/Downloads/data.csv')\n",
    "data.info()"
   ]
  },
  {
   "cell_type": "code",
   "execution_count": 16,
   "metadata": {},
   "outputs": [
    {
     "data": {
      "text/html": [
       "<div>\n",
       "<style scoped>\n",
       "    .dataframe tbody tr th:only-of-type {\n",
       "        vertical-align: middle;\n",
       "    }\n",
       "\n",
       "    .dataframe tbody tr th {\n",
       "        vertical-align: top;\n",
       "    }\n",
       "\n",
       "    .dataframe thead th {\n",
       "        text-align: right;\n",
       "    }\n",
       "</style>\n",
       "<table border=\"1\" class=\"dataframe\">\n",
       "  <thead>\n",
       "    <tr style=\"text-align: right;\">\n",
       "      <th></th>\n",
       "      <th>Propensity</th>\n",
       "      <th>Actual</th>\n",
       "    </tr>\n",
       "  </thead>\n",
       "  <tbody>\n",
       "    <tr>\n",
       "      <td>0</td>\n",
       "      <td>0.938969</td>\n",
       "      <td>0</td>\n",
       "    </tr>\n",
       "    <tr>\n",
       "      <td>1</td>\n",
       "      <td>0.900810</td>\n",
       "      <td>1</td>\n",
       "    </tr>\n",
       "    <tr>\n",
       "      <td>2</td>\n",
       "      <td>0.884265</td>\n",
       "      <td>1</td>\n",
       "    </tr>\n",
       "    <tr>\n",
       "      <td>3</td>\n",
       "      <td>0.857602</td>\n",
       "      <td>0</td>\n",
       "    </tr>\n",
       "    <tr>\n",
       "      <td>4</td>\n",
       "      <td>0.851207</td>\n",
       "      <td>0</td>\n",
       "    </tr>\n",
       "  </tbody>\n",
       "</table>\n",
       "</div>"
      ],
      "text/plain": [
       "   Propensity  Actual\n",
       "0    0.938969       0\n",
       "1    0.900810       1\n",
       "2    0.884265       1\n",
       "3    0.857602       0\n",
       "4    0.851207       0"
      ]
     },
     "execution_count": 16,
     "metadata": {},
     "output_type": "execute_result"
    }
   ],
   "source": [
    "data.head()"
   ]
  },
  {
   "cell_type": "code",
   "execution_count": 17,
   "metadata": {},
   "outputs": [
    {
     "data": {
      "text/plain": [
       "0.023200    3\n",
       "0.011353    3\n",
       "0.015348    3\n",
       "0.129516    3\n",
       "0.015798    3\n",
       "           ..\n",
       "0.030212    1\n",
       "0.327271    1\n",
       "0.007669    1\n",
       "0.020962    1\n",
       "0.328339    1\n",
       "Name: Propensity, Length: 922, dtype: int64"
      ]
     },
     "execution_count": 17,
     "metadata": {},
     "output_type": "execute_result"
    }
   ],
   "source": [
    "data['Propensity'].value_counts()"
   ]
  },
  {
   "cell_type": "code",
   "execution_count": 18,
   "metadata": {},
   "outputs": [
    {
     "data": {
      "text/html": [
       "<div>\n",
       "<style scoped>\n",
       "    .dataframe tbody tr th:only-of-type {\n",
       "        vertical-align: middle;\n",
       "    }\n",
       "\n",
       "    .dataframe tbody tr th {\n",
       "        vertical-align: top;\n",
       "    }\n",
       "\n",
       "    .dataframe thead th {\n",
       "        text-align: right;\n",
       "    }\n",
       "</style>\n",
       "<table border=\"1\" class=\"dataframe\">\n",
       "  <thead>\n",
       "    <tr style=\"text-align: right;\">\n",
       "      <th></th>\n",
       "      <th>Propensity</th>\n",
       "      <th>Actual</th>\n",
       "      <th>y_pred</th>\n",
       "    </tr>\n",
       "  </thead>\n",
       "  <tbody>\n",
       "    <tr>\n",
       "      <td>0</td>\n",
       "      <td>0.938969</td>\n",
       "      <td>0</td>\n",
       "      <td>1</td>\n",
       "    </tr>\n",
       "    <tr>\n",
       "      <td>1</td>\n",
       "      <td>0.900810</td>\n",
       "      <td>1</td>\n",
       "      <td>1</td>\n",
       "    </tr>\n",
       "    <tr>\n",
       "      <td>2</td>\n",
       "      <td>0.884265</td>\n",
       "      <td>1</td>\n",
       "      <td>1</td>\n",
       "    </tr>\n",
       "    <tr>\n",
       "      <td>3</td>\n",
       "      <td>0.857602</td>\n",
       "      <td>0</td>\n",
       "      <td>1</td>\n",
       "    </tr>\n",
       "    <tr>\n",
       "      <td>4</td>\n",
       "      <td>0.851207</td>\n",
       "      <td>0</td>\n",
       "      <td>1</td>\n",
       "    </tr>\n",
       "    <tr>\n",
       "      <td>...</td>\n",
       "      <td>...</td>\n",
       "      <td>...</td>\n",
       "      <td>...</td>\n",
       "    </tr>\n",
       "    <tr>\n",
       "      <td>995</td>\n",
       "      <td>0.006324</td>\n",
       "      <td>0</td>\n",
       "      <td>0</td>\n",
       "    </tr>\n",
       "    <tr>\n",
       "      <td>996</td>\n",
       "      <td>0.006217</td>\n",
       "      <td>0</td>\n",
       "      <td>0</td>\n",
       "    </tr>\n",
       "    <tr>\n",
       "      <td>997</td>\n",
       "      <td>0.006159</td>\n",
       "      <td>0</td>\n",
       "      <td>0</td>\n",
       "    </tr>\n",
       "    <tr>\n",
       "      <td>998</td>\n",
       "      <td>0.006096</td>\n",
       "      <td>0</td>\n",
       "      <td>0</td>\n",
       "    </tr>\n",
       "    <tr>\n",
       "      <td>999</td>\n",
       "      <td>0.005572</td>\n",
       "      <td>0</td>\n",
       "      <td>0</td>\n",
       "    </tr>\n",
       "  </tbody>\n",
       "</table>\n",
       "<p>1000 rows × 3 columns</p>\n",
       "</div>"
      ],
      "text/plain": [
       "     Propensity  Actual  y_pred\n",
       "0      0.938969       0       1\n",
       "1      0.900810       1       1\n",
       "2      0.884265       1       1\n",
       "3      0.857602       0       1\n",
       "4      0.851207       0       1\n",
       "..          ...     ...     ...\n",
       "995    0.006324       0       0\n",
       "996    0.006217       0       0\n",
       "997    0.006159       0       0\n",
       "998    0.006096       0       0\n",
       "999    0.005572       0       0\n",
       "\n",
       "[1000 rows x 3 columns]"
      ]
     },
     "execution_count": 18,
     "metadata": {},
     "output_type": "execute_result"
    }
   ],
   "source": [
    "# Let cutoff be 25\n",
    "cutoff=0.25\n",
    "data['y_pred']=[1 if p > cutoff else 0 for p in data.Propensity]  \n",
    "data"
   ]
  },
  {
   "cell_type": "code",
   "execution_count": 25,
   "metadata": {},
   "outputs": [
    {
     "name": "stdout",
     "output_type": "stream",
     "text": [
      "Confusion matrix \n",
      " [[764 166]\n",
      " [  0  70]]\n",
      "True positive: 70\n",
      "False positive: 166\n",
      "False negative: 0\n",
      "True negative: 764\n"
     ]
    }
   ],
   "source": [
    "# Confusion matrix for cutoff \n",
    "cm=confusion_matrix(data['Actual'],data['y_pred'])\n",
    "print('Confusion matrix \\n', cm)\n",
    "\n",
    "truePositive=cm[1][1]\n",
    "print('True positive: ''+str(truePositive))\n",
    "\n",
    "falsePositive=cm[0][1]\n",
    "print('False positive: '+str(falsePositive))\n",
    "\n",
    "falseNegative=cm[1][0]\n",
    "print('False negative: '+str(falseNegative))\n",
    "\n",
    "trueNegative=cm[0][0]\n",
    "print('True negative: '+str(trueNegative))"
   ]
  },
  {
   "cell_type": "code",
   "execution_count": 55,
   "metadata": {},
   "outputs": [
    {
     "name": "stdout",
     "output_type": "stream",
     "text": [
      "predictive accuracy:  0.929\n",
      "True Positive rate:  0.6428571428571429\n",
      "True negative rate:  0.9505376344086022\n",
      "True Positive rate:  0.4945054945054945\n",
      "Negative predictive value:  0.9724972497249725\n",
      "False positive rate:  0.04946236559139785\n",
      "Area Under the Receiver Operating Characteristic Curve 0.9555145929339477\n",
      "Log loss 0.19121195400761576\n",
      "F1-score 0.5590062111801243\n"
     ]
    }
   ],
   "source": [
    "#predictive accuracy\n",
    "print('predictive accuracy: ', (truePositive+trueNegative)/(truePositive+falsePositive+falseNegative+trueNegative))\n",
    "\n",
    "#true positive rate\n",
    "print('True Positive rate: ', truePositive/(truePositive+falseNegative))\n",
    "\n",
    "#true negative rate\n",
    "print('True negative rate: ', trueNegative/(falsePositive+trueNegative))\n",
    "     \n",
    "#precision value\n",
    "print('True Positive rate: ', truePositive/(truePositive+falsePositive))\n",
    "      \n",
    "#negative predictive value\n",
    "print('Negative predictive value: ', trueNegative/(falseNegative+trueNegative))\n",
    "      \n",
    "#false positive rate \n",
    "print('False positive rate: ', falsePositive/(falsePositive+trueNegative))\n",
    "\n",
    "#ROC AUC\n",
    "print('Area Under the Receiver Operating Characteristic Curve', roc_auc_score(data['Actual'],data['Propensity']))\n",
    "\n",
    "#log loss\n",
    "print('Log loss', log_loss(data['Actual'],data['Propensity']))\n",
    "#Log loass have very less value\n",
    "\n",
    "#f1-score\n",
    "print('F1-score', f1_score(data['Actual'], data['y_pred']))"
   ]
  },
  {
   "cell_type": "code",
   "execution_count": 45,
   "metadata": {},
   "outputs": [
    {
     "data": {
      "image/png": "[encoded data removed]",
      "text/plain": [
       "<Figure size 504x504 with 1 Axes>"
      ]
     },
     "metadata": {
      "needs_background": "light"
     },
     "output_type": "display_data"
    }
   ],
   "source": [
    "#ROC curve\n",
    "FPR, TPR, _ = roc_curve(data['Actual'],data['Propensity'])\n",
    "roc_auc = auc(FPR, TPR)\n",
    "\n",
    "plt.figure(figsize=[7, 7])\n",
    "plt.plot(FPR, TPR, color='red', label='ROC curve' % roc_auc)\n",
    "plt.plot([0, 1], [0, 1], color='black')\n",
    "plt.xlim([0.0, 1.0])\n",
    "plt.ylim([0.0, 1.05])\n",
    "plt.xlabel('False Positive Rate')\n",
    "plt.ylabel('True Positive Rate')\n",
    "plt.legend(loc='lower right')\n",
    "plt.show()\n"
   ]
  },
  {
   "cell_type": "code",
   "execution_count": 48,
   "metadata": {},
   "outputs": [
    {
     "data": {
      "image/png": "[encoded data removed]",
      "text/plain": [
       "<Figure size 360x360 with 1 Axes>"
      ]
     },
     "metadata": {
      "needs_background": "light"
     },
     "output_type": "display_data"
    }
   ],
   "source": [
    "precision_recall_curve(data['Actual'], data['Propensity'])\n",
    "\n",
    "precision, recall, _ = precision_recall_curve(data['Actual'], data['Propensity'])\n",
    "\n",
    "plt.figure(figsize=[5, 5])\n",
    "plt.plot(precision, recall, color='red', label='Precision recall curve)')\n",
    "plt.plot([0, 1], [0, 1], color='black')\n",
    "plt.xlim([0.0, 1.0])\n",
    "plt.ylim([0.0, 1.05])\n",
    "plt.xlabel('Recall')\n",
    "plt.ylabel('Precision')\n",
    "plt.legend(loc=\"lower right\")\n",
    "plt.show()"
   ]
  },
  {
   "cell_type": "code",
   "execution_count": 59,
   "metadata": {},
   "outputs": [],
   "source": [
    "# Let cutoff be 50\n",
    "cutoff=0.50\n",
    "data['y_pred']=[1 if p > cutoff else 0 for p in data['Propensity']]  "
   ]
  },
  {
   "cell_type": "code",
   "execution_count": 52,
   "metadata": {},
   "outputs": [
    {
     "name": "stdout",
     "output_type": "stream",
     "text": [
      "Confusion matrix \n",
      " [[884  46]\n",
      " [ 25  45]]\n",
      "True positive: 45\n",
      "False positive: 46\n",
      "False negative: 25\n",
      "True negative: 884\n"
     ]
    }
   ],
   "source": [
    "# Confusion matrix for cutoff \n",
    "cm=confusion_matrix(data['Actual'],data['y_pred'])\n",
    "print('Confusion matrix \\n', cm)\n",
    "\n",
    "truePositive=cm[1][1]\n",
    "print('True positive: '+str(truePositive))\n",
    "\n",
    "falsePositive=cm[0][1]\n",
    "print('False positive: '+str(falsePositive))\n",
    "\n",
    "falseNegative=cm[1][0]\n",
    "print('False negative: '+str(falseNegative))\n",
    "\n",
    "trueNegative=cm[0][0]\n",
    "print('True negative: '+str(trueNegative))"
   ]
  },
  {
   "cell_type": "code",
   "execution_count": 56,
   "metadata": {},
   "outputs": [
    {
     "name": "stdout",
     "output_type": "stream",
     "text": [
      "predictive accuracy:  0.929\n",
      "True Positive rate:  0.6428571428571429\n",
      "True negative rate:  0.9505376344086022\n",
      "True Positive rate:  0.4945054945054945\n",
      "Negative predictive value:  0.9724972497249725\n",
      "False positive rate:  0.04946236559139785\n",
      "Area Under the Receiver Operating Characteristic Curve 0.9555145929339477\n",
      "Log loss 0.19121195400761576\n",
      "F1-score 0.5590062111801243\n"
     ]
    }
   ],
   "source": [
    "#predictive accuracy\n",
    "print('predictive accuracy: ', (truePositive+trueNegative)/(truePositive+falsePositive+falseNegative+trueNegative))\n",
    "\n",
    "#true positive rate\n",
    "print('True Positive rate: ', truePositive/(truePositive+falseNegative))\n",
    "\n",
    "#true negative rate\n",
    "print('True negative rate: ', trueNegative/(falsePositive+trueNegative))\n",
    "     \n",
    "#precision value\n",
    "print('True Positive rate: ', truePositive/(truePositive+falsePositive))\n",
    "      \n",
    "#negative predictive value\n",
    "print('Negative predictive value: ', trueNegative/(falseNegative+trueNegative))\n",
    "      \n",
    "#false positive rate \n",
    "print('False positive rate: ', falsePositive/(falsePositive+trueNegative))\n",
    "\n",
    "#ROC AUC\n",
    "print('Area Under the Receiver Operating Characteristic Curve', roc_auc_score(data['Actual'],data['Propensity']))\n",
    "\n",
    "#log loss\n",
    "print('Log loss', log_loss(data['Actual'],data['Propensity']))\n",
    "#Log loass have very less value\n",
    "\n",
    "#f1-score\n",
    "print('F1-score', f1_score(data['Actual'], data['y_pred']))"
   ]
  },
  {
   "cell_type": "code",
   "execution_count": 57,
   "metadata": {},
   "outputs": [
    {
     "data": {
      "image/png": "[encoded data removed]",
      "text/plain": [
       "<Figure size 504x504 with 1 Axes>"
      ]
     },
     "metadata": {
      "needs_background": "light"
     },
     "output_type": "display_data"
    }
   ],
   "source": [
    "#ROC curve\n",
    "FPR, TPR, _ = roc_curve(data['Actual'],data['Propensity'])\n",
    "roc_auc = auc(FPR, TPR)\n",
    "\n",
    "plt.figure(figsize=[7, 7])\n",
    "plt.plot(FPR, TPR, color='red', label='ROC curve' % roc_auc)\n",
    "plt.plot([0, 1], [0, 1], color='black')\n",
    "plt.xlim([0.0, 1.0])\n",
    "plt.ylim([0.0, 1.05])\n",
    "plt.xlabel('False Positive Rate')\n",
    "plt.ylabel('True Positive Rate')\n",
    "plt.legend(loc='lower right')\n",
    "plt.show()"
   ]
  },
  {
   "cell_type": "code",
   "execution_count": 58,
   "metadata": {},
   "outputs": [
    {
     "data": {
      "image/png": "[encoded data removed]",
      "text/plain": [
       "<Figure size 360x360 with 1 Axes>"
      ]
     },
     "metadata": {
      "needs_background": "light"
     },
     "output_type": "display_data"
    }
   ],
   "source": [
    "precision_recall_curve(data['Actual'], data['Propensity'])\n",
    "\n",
    "precision, recall, _ = precision_recall_curve(data['Actual'], data['Propensity'])\n",
    "\n",
    "plt.figure(figsize=[5, 5])\n",
    "plt.plot(precision, recall, color='red', label='Precision recall curve)')\n",
    "plt.plot([0, 1], [0, 1], color='black')\n",
    "plt.xlim([0.0, 1.0])\n",
    "plt.ylim([0.0, 1.05])\n",
    "plt.xlabel('Recall')\n",
    "plt.ylabel('Precision')\n",
    "plt.legend(loc=\"lower right\")\n",
    "plt.show()"
   ]
  },
  {
   "cell_type": "code",
   "execution_count": 60,
   "metadata": {},
   "outputs": [],
   "source": [
    "# Let cutoff be 75\n",
    "cutoff=0.75\n",
    "data['y_pred']=[1 if p > cutoff else 0 for p in data['Propensity']]  "
   ]
  },
  {
   "cell_type": "code",
   "execution_count": 61,
   "metadata": {},
   "outputs": [
    {
     "name": "stdout",
     "output_type": "stream",
     "text": [
      "Confusion matrix \n",
      " [[922   8]\n",
      " [ 63   7]]\n",
      "True positive: 7\n",
      "False positive: 8\n",
      "False negative: 63\n",
      "True negative: 922\n"
     ]
    }
   ],
   "source": [
    "# Confusion matrix for cutoff \n",
    "cm=confusion_matrix(data['Actual'],data['y_pred'])\n",
    "print('Confusion matrix \\n', cm)\n",
    "\n",
    "truePositive=cm[1][1]\n",
    "print('True positive: '+str(truePositive))\n",
    "\n",
    "falsePositive=cm[0][1]\n",
    "print('False positive: '+str(falsePositive))\n",
    "\n",
    "falseNegative=cm[1][0]\n",
    "print('False negative: '+str(falseNegative))\n",
    "\n",
    "trueNegative=cm[0][0]\n",
    "print('True negative: '+str(trueNegative))"
   ]
  },
  {
   "cell_type": "code",
   "execution_count": 62,
   "metadata": {},
   "outputs": [
    {
     "name": "stdout",
     "output_type": "stream",
     "text": [
      "predictive accuracy:  0.929\n",
      "True Positive rate:  0.1\n",
      "True negative rate:  0.9913978494623656\n",
      "True Positive rate:  0.4666666666666667\n",
      "Negative predictive value:  0.9360406091370559\n",
      "False positive rate:  0.008602150537634409\n",
      "Area Under the Receiver Operating Characteristic Curve 0.9555145929339477\n",
      "Log loss 0.19121195400761576\n",
      "F1-score 0.1647058823529412\n"
     ]
    }
   ],
   "source": [
    "#predictive accuracy\n",
    "print('predictive accuracy: ', (truePositive+trueNegative)/(truePositive+falsePositive+falseNegative+trueNegative))\n",
    "\n",
    "#true positive rate\n",
    "print('True Positive rate: ', truePositive/(truePositive+falseNegative))\n",
    "\n",
    "#true negative rate\n",
    "print('True negative rate: ', trueNegative/(falsePositive+trueNegative))\n",
    "     \n",
    "#precision value\n",
    "print('True Positive rate: ', truePositive/(truePositive+falsePositive))\n",
    "      \n",
    "#negative predictive value\n",
    "print('Negative predictive value: ', trueNegative/(falseNegative+trueNegative))\n",
    "      \n",
    "#false positive rate \n",
    "print('False positive rate: ', falsePositive/(falsePositive+trueNegative))\n",
    "\n",
    "#ROC AUC\n",
    "print('Area Under the Receiver Operating Characteristic Curve', roc_auc_score(data['Actual'],data['Propensity']))\n",
    "\n",
    "#log loss\n",
    "print('Log loss', log_loss(data['Actual'],data['Propensity']))\n",
    "#Log loass have very less value\n",
    "\n",
    "#f1-score\n",
    "print('F1-score', f1_score(data['Actual'], data['y_pred']))"
   ]
  },
  {
   "cell_type": "code",
   "execution_count": 63,
   "metadata": {},
   "outputs": [
    {
     "data": {
      "image/png": "[encoded data removed]",
      "text/plain": [
       "<Figure size 504x504 with 1 Axes>"
      ]
     },
     "metadata": {
      "needs_background": "light"
     },
     "output_type": "display_data"
    }
   ],
   "source": [
    "#ROC curve\n",
    "FPR, TPR, _ = roc_curve(data['Actual'],data['Propensity'])\n",
    "roc_auc = auc(FPR, TPR)\n",
    "\n",
    "plt.figure(figsize=[7, 7])\n",
    "plt.plot(FPR, TPR, color='red', label='ROC curve' % roc_auc)\n",
    "plt.plot([0, 1], [0, 1], color='black')\n",
    "plt.xlim([0.0, 1.0])\n",
    "plt.ylim([0.0, 1.05])\n",
    "plt.xlabel('False Positive Rate')\n",
    "plt.ylabel('True Positive Rate')\n",
    "plt.legend(loc='lower right')\n",
    "plt.show()"
   ]
  },
  {
   "cell_type": "code",
   "execution_count": 64,
   "metadata": {},
   "outputs": [
    {
     "data": {
      "image/png": "[encoded data removed]",
      "text/plain": [
       "<Figure size 360x360 with 1 Axes>"
      ]
     },
     "metadata": {
      "needs_background": "light"
     },
     "output_type": "display_data"
    }
   ],
   "source": [
    "precision_recall_curve(data['Actual'], data['Propensity'])\n",
    "\n",
    "precision, recall, _ = precision_recall_curve(data['Actual'], data['Propensity'])\n",
    "\n",
    "plt.figure(figsize=[5, 5])\n",
    "plt.plot(precision, recall, color='red', label='Precision recall curve)')\n",
    "plt.plot([0, 1], [0, 1], color='black')\n",
    "plt.xlim([0.0, 1.0])\n",
    "plt.ylim([0.0, 1.05])\n",
    "plt.xlabel('Recall')\n",
    "plt.ylabel('Precision')\n",
    "plt.legend(loc=\"lower right\")\n",
    "plt.show()"
   ]
  },
  {
   "cell_type": "code",
   "execution_count": null,
   "metadata": {},
   "outputs": [],
   "source": []
  }
 ],
 "metadata": {
  "kernelspec": {
   "display_name": "Python 3",
   "language": "python",
   "name": "python3"
  },
  "language_info": {
   "codemirror_mode": {
    "name": "ipython",
    "version": 3
   },
   "file_extension": ".py",
   "mimetype": "text/x-python",
   "name": "python",
   "nbconvert_exporter": "python",
   "pygments_lexer": "ipython3",
   "version": "3.7.4"
  }
 },
 "nbformat": 4,
 "nbformat_minor": 2
}
